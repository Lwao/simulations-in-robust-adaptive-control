{
 "cells": [
  {
   "cell_type": "markdown",
   "source": [
    "---\n",
    "\n",
    "Universidade Federal do Rio Grande do Norte\n",
    "\n",
    "Centro de Tecnologia\n",
    "\n",
    "Departamento de Engenharia Elétrica\n",
    "\n",
    "ELE0611 - Tópicos especiais em controle analógico\n",
    "\n",
    "Discente: Levy Gabriel\n",
    "\n",
    "Título: Simulações em controle adaptativo robusto\n",
    "\n",
    "---"
   ],
   "metadata": {
    "id": "3O_x_SJcr8oW"
   }
  },
  {
   "cell_type": "markdown",
   "source": [
    "# Inicialização"
   ],
   "metadata": {
    "id": "9kuDHtRbsZ8A"
   }
  },
  {
   "cell_type": "markdown",
   "source": [
    "O trabalho desenvolvido se vale de um conjunto de bibliotecas básicas nativas da linguagem Python, mas também é apresentada um conjunto de funcionalidades desenvolvidas propriamente para a disciplina de controle adaptativo robusto. "
   ],
   "metadata": {
    "id": "eF3v11uPhFXy"
   }
  },
  {
   "cell_type": "markdown",
   "source": [
    "## Bibliotecas nativas"
   ],
   "metadata": {
    "id": "GMkuLxcx1F_C"
   }
  },
  {
   "cell_type": "markdown",
   "source": [
    "As bibliotecas nativas utilizadas são:\n",
    "\n",
    "- Numpy para gerenciar operações matemáticas e algébricas complexas com facilidade;\n",
    "- Matplotlib para apresentar os resultados graficamente;\n",
    "- Time para calcular o tempo de execução das simulações."
   ],
   "metadata": {
    "id": "Khw9ysiFhFXz"
   }
  },
  {
   "cell_type": "code",
   "execution_count": 2,
   "source": [
    "import numpy as np\r\n",
    "import matplotlib.pyplot as plt\r\n",
    "import time\r\n",
    "from IPython.display import Image"
   ],
   "outputs": [],
   "metadata": {
    "executionInfo": {
     "elapsed": 9,
     "status": "ok",
     "timestamp": 1628692515127,
     "user": {
      "displayName": "Levy Gabriel",
      "photoUrl": "https://lh3.googleusercontent.com/a-/AOh14Gh1oZgUqGB_6oi--gsnCQuu9LzMpfCX4SJd3TPucw=s64",
      "userId": "05194170306051508520"
     },
     "user_tz": 180
    },
    "id": "kEouNvab3uSz"
   }
  },
  {
   "cell_type": "markdown",
   "source": [
    "## Classes desenvolvidas"
   ],
   "metadata": {
    "id": "7X1NKcA16wBJ"
   }
  },
  {
   "cell_type": "markdown",
   "source": [
    "As funcionalidades desenvolvidas nesse trabalho fazem o uso da programação orientada a objetos do Python para criar um esquema de simulação orientado a blocos. Permitindo assim que após a programação desses blocos básicos, o único esforço do usuário seja para instanciar os blocos corretos com parâmetros customizáveis e conectar-los corretamente."
   ],
   "metadata": {
    "id": "WOK_cY9shFX0"
   }
  },
  {
   "cell_type": "markdown",
   "source": [
    "### Block"
   ],
   "metadata": {
    "id": "U1yFFJ3N90bT"
   }
  },
  {
   "cell_type": "markdown",
   "source": [
    "A primeira classe desenvolvida é a *Block*, que consiste em um bloco genérico que inicializa vetores de entrada e saída padrão de um bloco. Dessa classe herdarão os demais blocos. Também é desenvolvida o método **work** que é comum para todos os blocos e que ela executa um ciclo de simulação daquele bloco, assim recebendo uma entrada (caso o bloco possua entradas), processando-a e gerando uma saída (caso o bloco possua saídas)."
   ],
   "metadata": {
    "id": "YQVplkG4hFX1"
   }
  },
  {
   "cell_type": "code",
   "execution_count": 3,
   "source": [
    "class Block:\r\n",
    "    def __init__(self, \r\n",
    "                 name='Default', h=0.0001,\r\n",
    "                 in_type=[np.float64, ],\r\n",
    "                 out_type=[np.float64, ],\r\n",
    "                 in_buff_len=0, out_buff_len=0\r\n",
    "                 ):\r\n",
    "        DefaultDtype = np.float64\r\n",
    "        self.name = name             # name\r\n",
    "        self.h = h                   # sampling time\r\n",
    "        self.in_len = len(in_type)   # input buffer length\r\n",
    "        self.out_len = len(out_type) # output buffer length\r\n",
    "\r\n",
    "        self.in_buff_len = in_buff_len\r\n",
    "        self.out_buff_len = out_buff_len\r\n",
    "\r\n",
    "        # input and output buffer initialization \r\n",
    "        self.in_buffer = np.zeros((self.in_buff_len), dtype=DefaultDtype) # [actual, prev1, prev2...]\r\n",
    "        self.out_buffer = np.zeros((self.out_buff_len), dtype=DefaultDtype) # [actual, prev1, prev2...]\r\n",
    "    \r\n",
    "    def data_in(self, in_data): pass\r\n",
    "    def data_out(self): pass\r\n",
    "    def data_processing(self): pass\r\n",
    "    def work(self, in_data):\r\n",
    "        self.data_in(in_data)\r\n",
    "        return self.data_out()"
   ],
   "outputs": [],
   "metadata": {
    "id": "cSiGXmv45qAE"
   }
  },
  {
   "cell_type": "markdown",
   "source": [
    "### Source"
   ],
   "metadata": {
    "id": "8q7EPsVr934R"
   }
  },
  {
   "cell_type": "markdown",
   "source": [
    "Dando seguimento aos demais blocos, o próximo é o bloco *Source* que é responsável por gerar saídas com base em uma função **amplitude** definida na sua inicialização."
   ],
   "metadata": {
    "id": "45pgaOBIhFX2"
   }
  },
  {
   "cell_type": "code",
   "execution_count": 4,
   "source": [
    "class Source(Block):\r\n",
    "    def __init__(self, name='Source', h=0.0001,\r\n",
    "                 amplitude= lambda t: 1):\r\n",
    "        \r\n",
    "        DefaultDtype = np.float64\r\n",
    "        Block.__init__(self, name=name, h=h, in_type=[], out_type=[DefaultDtype,], in_buff_len=0, out_buff_len=1)\r\n",
    "        self.count = 0\r\n",
    "        self.amplitude = amplitude\r\n",
    "\r\n",
    "    def data_out(self):\r\n",
    "        self.out_buffer = self.amplitude(self.count*self.h)\r\n",
    "        self.count += 1\r\n",
    "        return self.out_buffer\r\n",
    "\r\n",
    "    def work(self):\r\n",
    "        return self.data_out()"
   ],
   "outputs": [],
   "metadata": {
    "id": "hlPMgh8u2AZV"
   }
  },
  {
   "cell_type": "markdown",
   "source": [
    "### Sum"
   ],
   "metadata": {
    "id": "QiMnEv4o95VS"
   }
  },
  {
   "cell_type": "markdown",
   "source": [
    "O bloco *Sum* é essencial para realizar operações de somas ou subrações ponderadas."
   ],
   "metadata": {
    "id": "-qBXFdf5hFX4"
   }
  },
  {
   "cell_type": "code",
   "execution_count": 5,
   "source": [
    "class Sum(Block):\r\n",
    "    def __init__(self, name='Sum', \r\n",
    "                 ports_gains = (1, 1)):\r\n",
    "        \r\n",
    "        DefaultDtype = np.float64\r\n",
    "\r\n",
    "        self.num_inputs = len(ports_gains)\r\n",
    "        self.input_gains = np.array(ports_gains, dtype=DefaultDtype)\r\n",
    "\r\n",
    "        in_type = []\r\n",
    "        for i in range(self.num_inputs): in_type.append(DefaultDtype)\r\n",
    "        Block.__init__(self, name=name, in_type=in_type, out_type=[DefaultDtype,], in_buff_len=self.num_inputs, out_buff_len=1)\r\n",
    "\r\n",
    "    def data_in(self, in_data):\r\n",
    "        self.in_buffer = np.array(in_data, dtype=np.float64)\r\n",
    "\r\n",
    "    def data_out(self):\r\n",
    "        self.out_buffer = self.data_processing()\r\n",
    "        return self.out_buffer\r\n",
    "\r\n",
    "    def data_processing(self):\r\n",
    "        DefaultDtype = np.float64\r\n",
    "        acc = DefaultDtype(0)\r\n",
    "        for i in range(self.num_inputs):\r\n",
    "          acc += self.input_gains[i]*self.in_buffer[i]\r\n",
    "        return acc\r\n",
    "    "
   ],
   "outputs": [],
   "metadata": {
    "id": "Z1nipO7lrYqb"
   }
  },
  {
   "cell_type": "markdown",
   "source": [
    "### Multiply"
   ],
   "metadata": {}
  },
  {
   "cell_type": "markdown",
   "source": [
    "O bloco *Multiply* possui estrutura semelhante ao bloco *Sum*, com a diferença que todas as suas entradas são multiplicadas entre si."
   ],
   "metadata": {}
  },
  {
   "cell_type": "code",
   "execution_count": 6,
   "source": [
    "class Multiply(Block):\r\n",
    "    def __init__(self, name='Multiply', \r\n",
    "                 number_inputs = 2):\r\n",
    "        \r\n",
    "        DefaultDtype = np.float64\r\n",
    "\r\n",
    "        self.num_inputs = number_inputs\r\n",
    "\r\n",
    "        in_type = []\r\n",
    "        for i in range(self.num_inputs): in_type.append(DefaultDtype)\r\n",
    "        Block.__init__(self, name=name, in_type=in_type, out_type=[DefaultDtype,], in_buff_len=self.num_inputs, out_buff_len=1)\r\n",
    "\r\n",
    "    def data_in(self, in_data):\r\n",
    "        self.in_buffer = np.array(in_data, dtype=np.float64)\r\n",
    "\r\n",
    "    def data_out(self):\r\n",
    "        self.out_buffer = self.data_processing()\r\n",
    "        return self.out_buffer\r\n",
    "\r\n",
    "    def data_processing(self):\r\n",
    "        DefaultDtype = np.float64\r\n",
    "        acc = DefaultDtype(1)\r\n",
    "        for i in range(self.num_inputs):\r\n",
    "          acc *= self.in_buffer[i]\r\n",
    "        return acc"
   ],
   "outputs": [],
   "metadata": {}
  },
  {
   "cell_type": "markdown",
   "source": [
    "### TF"
   ],
   "metadata": {
    "id": "pHt1bgkP96xo"
   }
  },
  {
   "cell_type": "markdown",
   "source": [
    "O bloco *TF* é um dos blocos mais importantes deste trabalho. Ele implementa uma função de transferência causal genérica e processa as entradas de acordo com o numerador e denominador da função de transferência com base no método da aproximação para trás de Euler."
   ],
   "metadata": {
    "id": "KXOoC0X2hFX6"
   }
  },
  {
   "cell_type": "code",
   "execution_count": 7,
   "source": [
    "class TF(Block):\r\n",
    "    def __init__(self, name='Transfer function', h=0.0001,\r\n",
    "                 initial_conditions = [],\r\n",
    "                 numerator = [], \r\n",
    "                 denominator= []):\r\n",
    "        \r\n",
    "        DefaultDtype = np.float64\r\n",
    "\r\n",
    "        self.len_num = len(numerator)\r\n",
    "        self.len_den = len(denominator)\r\n",
    "\r\n",
    "        Block.__init__(self, name=name, h=h, in_type=[DefaultDtype,], out_type=[DefaultDtype,], in_buff_len=self.len_num, out_buff_len=self.len_den)\r\n",
    "  \r\n",
    "        self.num = np.array(numerator, dtype=DefaultDtype) # s^n*c_n + ... + s^0*c_0\r\n",
    "        self.den = np.array(denominator, dtype=DefaultDtype) # s^n*c_n + ... + s^0*c_0\r\n",
    "\r\n",
    "        if(not len(initial_conditions)==0): self.out_buffer[-1:0:-1] = np.array(initial_conditions, dtype=DefaultDtype) # D^ny(t), D^(n-1)y(t), ..., D^1y(t), D^0y(t)\r\n",
    "\r\n",
    "    def data_in(self, in_data):\r\n",
    "      self.in_buffer = np.roll(self.in_buffer,shift=1,axis=0)\r\n",
    "      self.in_buffer[0] = in_data\r\n",
    "\r\n",
    "    def data_out(self):\r\n",
    "      out_data = self.out_buffer[-1]\r\n",
    "      if(out_data>1000): return\r\n",
    "      if(out_data<-1000): return\r\n",
    "      self.out_buffer[0] = np.float64(0)\r\n",
    "      self.out_buffer[0] = self.data_processing()\r\n",
    "      self.out_buffer = np.roll(self.out_buffer,shift=1,axis=0)\r\n",
    "      return out_data\r\n",
    "\r\n",
    "    def get_out(self): return self.out_buffer[-1]\r\n",
    "    \r\n",
    "    def data_processing(self):\r\n",
    "      num = np.flip(self.num) # s^0*c_0 + ... + s^n*c_n\r\n",
    "      den = np.flip(self.den) # s^0*c_0 + ... + s^n*c_n\r\n",
    "      x = np.flip(self.in_buffer) # [prev_n, prev_n-1, ... , prev_1, actual]\r\n",
    "      y = np.flip(self.out_buffer) # [prev_n, prev_n-1, ... , prev_1, actual]\r\n",
    "      accX = np.float64(0)\r\n",
    "      accY = np.float64(0)\r\n",
    "      accDen = np.float64(0)\r\n",
    "      \r\n",
    "      # input contribution\r\n",
    "      for itr in range(self.len_num):\r\n",
    "        accX += (num[itr]*x[-1]/(self.h**itr))\r\n",
    "        x = np.diff(x)\r\n",
    "      # output contribution\r\n",
    "      for itr in range(self.len_den-1):\r\n",
    "        y = np.diff(y)\r\n",
    "        accY += (den[itr+1]*y[-1]/(self.h**(itr+1)))\r\n",
    "      # actual output contribution\r\n",
    "      for itr in range(self.len_den): \r\n",
    "        accDen += (den[itr]/(self.h**itr))\r\n",
    "\r\n",
    "      return (accX-accY)/accDen\r\n",
    "\r\n",
    "    def reset(self, initial_conditions = []):\r\n",
    "        if(not len(initial_conditions)==0): self.out_buffer[-1:0:-1] = np.array(initial_conditions, dtype=np.float64) # D^ny(t), D^(n-1)y(t), ..., D^1y(t), D^0y(t)"
   ],
   "outputs": [],
   "metadata": {
    "id": "pJywwSVjuUyt"
   }
  },
  {
   "cell_type": "markdown",
   "source": [
    "### PID"
   ],
   "metadata": {
    "id": "dOTj2Un098NA"
   }
  },
  {
   "cell_type": "markdown",
   "source": [
    "O bloco *PID* representa um controaldor PID típico, porém este será utilizado apenas nas simulações iniciais do trabalho, uma vez que o controle adaptativo será o principal foco."
   ],
   "metadata": {
    "id": "zASX8fMShFX9"
   }
  },
  {
   "cell_type": "code",
   "execution_count": 8,
   "source": [
    "class PID(Block):\r\n",
    "    def __init__(self, name='PID', h=0.0001, Kp=1, Ki=0, Kd=0):\r\n",
    "        \r\n",
    "        DefaultDtype = np.float64\r\n",
    "\r\n",
    "        Block.__init__(self, name=name, h=h, in_type=[DefaultDtype,], out_type=[DefaultDtype,], in_buff_len=2, out_buff_len=1)\r\n",
    "  \r\n",
    "        self.Kp = Kp\r\n",
    "        self.Ki = Ki\r\n",
    "        self.Kd = Kd\r\n",
    "        self.integral=DefaultDtype(0)\r\n",
    "\r\n",
    "    def data_in(self, in_data):\r\n",
    "      self.in_buffer = np.roll(self.in_buffer,shift=1,axis=0) # [error, lastError]\r\n",
    "      self.in_buffer[0] = in_data\r\n",
    "\r\n",
    "    def data_out(self):\r\n",
    "      self.out_buffer = self.data_processing()\r\n",
    "      return self.out_buffer\r\n",
    "\r\n",
    "    def data_processing(self):\r\n",
    "      error, lastError = self.in_buffer\r\n",
    "      proportional = self.Kp*error\r\n",
    "      self.integral = self.integral + proportional*self.h\r\n",
    "      derivative = (proportional-lastError)/self.h\r\n",
    "      return proportional + self.Ki*self.integral + self.Kd*derivative"
   ],
   "outputs": [],
   "metadata": {
    "id": "9185Fr01H0d1"
   }
  },
  {
   "cell_type": "markdown",
   "source": [
    "### AdaptiveController"
   ],
   "metadata": {
    "id": "wUflg5OuhFX-"
   }
  },
  {
   "cell_type": "markdown",
   "source": [
    "Esse sim será o controlador amplamente usado nesse trabalho na maior parte das simulações. A classe herda diretamente do bloco *Sum*, portanto ele não operará com fatores derivativos ou integrais, já que não possui memória. Na veredade ele implementa um controlador proporcional generalizado.\n",
    "\n",
    "Vale destacar que este bloco possui um método *set_parameters*. Ele será bastante usado em conjunto com o bloco seguinte (*Estimator*)."
   ],
   "metadata": {
    "id": "WmndR6MghFX-"
   }
  },
  {
   "cell_type": "code",
   "execution_count": 9,
   "source": [
    "class AdaptiveController(Sum):\r\n",
    "    def __init__(self, name='AdaptiveController', \r\n",
    "                 ports_gains = [-1, 1]):\r\n",
    "        \r\n",
    "        DefaultDtype = np.float64\r\n",
    "\r\n",
    "        truncated_gains = np.array(ports_gains, dtype=DefaultDtype)\r\n",
    "        Sum.__init__(self, name=name, ports_gains=truncated_gains)\r\n",
    "\r\n",
    "\r\n",
    "    def set_parameters(self, parameters = [-1,1]): self.input_gains = np.array(parameters, dtype=np.float64)\r\n",
    "    def get_parameters(self): return self.input_gains\r\n",
    "    def reset(self, ports_gains = [-1, 1]): self.set_parameters(ports_gains)"
   ],
   "outputs": [],
   "metadata": {
    "id": "cyYAiUpOhFX_"
   }
  },
  {
   "cell_type": "markdown",
   "source": [
    "### EstimatorMRAC"
   ],
   "metadata": {
    "id": "qtf78rFPhFX_"
   }
  },
  {
   "cell_type": "markdown",
   "source": [
    "O bloco *EstimatorMRAC* será a peça fundamental para o controle adaptativo por modelo de referência, pois este estima diretamente os parâmetros do controlador adaptativo (bloco anterior) e os modifica constantemente por meio do método *set_parameters* do *AdaptiveController*.\n",
    "\n",
    "No caso especial do *EstimatorMRAC*, eset tratará apenas das simulações que envolverá o controle adaptativo por modelo de referência.\n",
    "\n",
    "As estratégias de estimação que esse bloco possui são:\n",
    "- Intregal;\n",
    "- Zona morta;\n",
    "- Limitação dos parâmetros adaptativos;\n",
    "- Normalização;\n",
    "- Modificação $\\sigma$;\n",
    "- Modificação $\\sigma$ com normalização;\n",
    "- Projeção;"
   ],
   "metadata": {
    "id": "ezeuXhaFhFYA"
   }
  },
  {
   "cell_type": "code",
   "execution_count": 10,
   "source": [
    "class EstimatorMRAC(Block):\r\n",
    "    # Initializing\r\n",
    "    def __init__(self, name='Estimator', actual_controller_gains = [-1,1], adaptation_law = 'integral', adaptive_gains = [0,0], dead_zone=-1, limiter=1e3, forgetfulness_factor=1e-6, m0=1, delta0=1, delta1=1):\r\n",
    "        \r\n",
    "        DefaultDtype = np.float64\r\n",
    "\r\n",
    "        if (len(adaptive_gains)>=2): \r\n",
    "          self.adaptive_gains = np.array(adaptive_gains, dtype=DefaultDtype)\r\n",
    "        elif(len(adaptive_gains)==1): \r\n",
    "          self.adaptive_gains = np.array([adaptive_gains[0], 0], dtype=DefaultDtype)\r\n",
    "        else: \r\n",
    "          self.adaptive_gains = np.array([0, 0], dtype=DefaultDtype)\r\n",
    "\r\n",
    "        Block.__init__(self, name=name, \r\n",
    "                       in_type=[DefaultDtype, # y\r\n",
    "                                DefaultDtype, # eo\r\n",
    "                                DefaultDtype, # r\r\n",
    "                                ], out_type=[DefaultDtype,DefaultDtype,], in_buff_len=3, out_buff_len=2)\r\n",
    "        \r\n",
    "        self.controller_gains = np.array(actual_controller_gains, dtype=DefaultDtype)\r\n",
    "        \r\n",
    "        # control law variables\r\n",
    "        self.adaptation_law = adaptation_law\r\n",
    "        self.dead_zone = dead_zone # Delta\r\n",
    "        self.limiter = limiter # M0\r\n",
    "        self.forgetfulness_factor = forgetfulness_factor # sigma\r\n",
    "        self.m_last = m0 # m0\r\n",
    "        self.delta0 = delta0 # delta0\r\n",
    "        self.delta1 = delta1 # delta1\r\n",
    "        self.norm = lambda a, b: np.sqrt(a**2+b**2)\r\n",
    "\r\n",
    "        # control law strategy adjustment\r\n",
    "        if(self.adaptation_law=='integral' or self.adaptation_law=='dead_zone' or self.adaptation_law=='projection'):\r\n",
    "          self.dot_par1 = lambda gamma1, input_vec: -gamma1*input_vec[1]*input_vec[0] # -gamma1*eo*y\r\n",
    "          self.dot_par2 = lambda gamma2, input_vec: -gamma2*input_vec[1]*input_vec[2] # -gamma2*eo*r\r\n",
    "        elif(self.adaptation_law=='limitation'):\r\n",
    "          f = lambda c1, c2: 0 if (self.norm(c1,c2)<=self.limiter) else (1-self.norm(c1,c2)/self.limiter)**2\r\n",
    "          self.dot_par1 = lambda gamma1, input_vec: -gamma1*input_vec[1]*input_vec[0] - gamma1 * f(self.controller_gains[0], self.controller_gains[1]) * self.controller_gains[0] # -gamma1*eo*y - gamma1*f(c1,c2)*c1\r\n",
    "          self.dot_par2 = lambda gamma2, input_vec: -gamma2*input_vec[1]*input_vec[2] - gamma2 * f(self.controller_gains[0], self.controller_gains[1]) * self.controller_gains[1] # -gamma2*eo*r - gamma2*f(c1,c2)*c2\r\n",
    "        elif(self.adaptation_law=='normalization'):\r\n",
    "          self.dot_par1 = lambda gamma1, input_vec: -gamma1*input_vec[1]*input_vec[0] / (1+input_vec[0]**2+input_vec[2]**2)  # -gamma1*eo*y/(1+y^2+r^2)\r\n",
    "          self.dot_par2 = lambda gamma2, input_vec: -gamma2*input_vec[1]*input_vec[2] / (1+input_vec[0]**2+input_vec[2]**2) # -gamma2*eo*r/(1+y^2+r^2)\r\n",
    "        elif(self.adaptation_law=='sigma_modification'):\r\n",
    "          self.dot_par1 = lambda gamma1, input_vec: -gamma1*input_vec[1]*input_vec[0] - self.forgetfulness_factor*self.controller_gains[0]  # -gamma1*eo*y - sigma*c1\r\n",
    "          self.dot_par2 = lambda gamma2, input_vec: -gamma2*input_vec[1]*input_vec[2] - self.forgetfulness_factor*self.controller_gains[1] # -gamma2*eo*r - sigma*c2\r\n",
    "        elif(self.adaptation_law=='sigma_modification_with_normalization'):\r\n",
    "          u = lambda : self.controller_gains[0]*self.in_buffer[0] + self.controller_gains[1]*self.in_buffer[2]\r\n",
    "          self.m = lambda : (-self.delta0*self.m_last + self.delta1*(np.abs(u()) + np.abs(self.in_buffer[0]) + 1))*self.h + self.m_last\r\n",
    "          sigma = lambda : 0 if (self.norm(self.controller_gains[0],self.controller_gains[1])<=self.limiter) else (self.forgetfulness_factor*(self.norm(self.controller_gains[0],self.controller_gains[1])/self.limiter-1) if(self.norm(self.controller_gains[0],self.controller_gains[1])>self.limiter and self.norm(self.controller_gains[0],self.controller_gains[1])<=2*self.limiter) else self.forgetfulness_factor)\r\n",
    "          self.dot_par1 = lambda gamma1, input_vec: -gamma1*input_vec[1]*input_vec[0]/(self.m()**2) - gamma1*sigma()*self.controller_gains[0]  # -gamma1*eo*y/m^2 - gamma1*sigma*c1\r\n",
    "          self.dot_par2 = lambda gamma2, input_vec: -gamma2*input_vec[1]*input_vec[2]/(self.m()**2) - gamma2*sigma()*self.controller_gains[1]  # -gamma2*eo*r/m^2 - gamma2*sigma*c2 \r\n",
    "        else:\r\n",
    "          self.dot_par1 = lambda gamma1, input_vec: 0\r\n",
    "          self.dot_par2 = lambda gamma2, input_vec: 0\r\n",
    "\r\n",
    "    def data_in(self, in_data):\r\n",
    "        self.in_buffer = np.array(in_data, dtype=np.float64)\r\n",
    "\r\n",
    "    def data_out(self):\r\n",
    "        theta1, theta2 = self.data_processing()\r\n",
    "        self.out_buffer[:] = np.array([theta1, theta2], dtype=np.float64)\r\n",
    "        self.controller_gains[:] = self.out_buffer\r\n",
    "        return self.out_buffer\r\n",
    "\r\n",
    "    def data_processing(self):\r\n",
    "        #if((self.adaptation_law=='dead_zone' and np.abs(self.in_buffer[1])>self.dead_zone) or self.adaptation_law=='integral' or self.adaptation_law=='limitation'):\r\n",
    "        if((self.adaptation_law=='dead_zone' and np.abs(self.in_buffer[1])<=self.dead_zone) or (self.adaptation_law=='projection' and self.norm(self.controller_gains[0],self.controller_gains[1])>self.limiter)): \r\n",
    "          theta1 = self.controller_gains[0]\r\n",
    "          theta2 = self.controller_gains[1]\r\n",
    "        elif(self.adaptation_law=='sigma_modification_with_normalization'):\r\n",
    "          theta1 = self.h*self.dot_par1(self.adaptive_gains[0], self.in_buffer)+self.controller_gains[0]\r\n",
    "          theta2 = self.h*self.dot_par2(self.adaptive_gains[1], self.in_buffer)+self.controller_gains[1]\r\n",
    "          self.m_last = self.m()\r\n",
    "        else:\r\n",
    "          theta1 = self.h*self.dot_par1(self.adaptive_gains[0], self.in_buffer)+self.controller_gains[0]\r\n",
    "          theta2 = self.h*self.dot_par2(self.adaptive_gains[1], self.in_buffer)+self.controller_gains[1]\r\n",
    "        return theta1, theta2\r\n",
    "\r\n",
    "    def set_adaptive_gains(self, adaptive_gains = [0,0]):\r\n",
    "      if (len(adaptive_gains)>=2): \r\n",
    "        self.adaptive_gains = np.array(adaptive_gains, dtype=DefaultDtype)\r\n",
    "      elif(len(adaptive_gains)==1): \r\n",
    "        self.adaptive_gains = np.array([adaptive_gains[0], 0], dtype=DefaultDtype)\r\n",
    "      else: \r\n",
    "        self.adaptive_gains = np.array([0, 0], dtype=DefaultDtype)"
   ],
   "outputs": [],
   "metadata": {
    "id": "4CgSQnRqhFYB"
   }
  },
  {
   "cell_type": "markdown",
   "source": [
    "### EstimatorVSMRAC"
   ],
   "metadata": {}
  },
  {
   "cell_type": "markdown",
   "source": [
    "O bloco a seguir é o *EstimatorVSMRAC*, que a única diferença para o anterior é que ele fornecerá as estimações para a estratégia de controle MRAC e estrutura variável."
   ],
   "metadata": {}
  },
  {
   "cell_type": "code",
   "execution_count": 11,
   "source": [
    "class EstimatorVSMRAC(Block):\r\n",
    "    # Initializing\r\n",
    "    def __init__(self, name='Estimator', actual_controller_gains = [-1,1], adaptation_law = 'default', theta_bar = [0,0], \r\n",
    "                 K=1, Delta=1, c1=1, c2=1, epsilon1=1, epsilon2=1, mu=lambda x,y:1, sigma=1, L=1):\r\n",
    "        \r\n",
    "        DefaultDtype = np.float64\r\n",
    "\r\n",
    "        Block.__init__(self, name=name, \r\n",
    "                       in_type=[DefaultDtype, # y\r\n",
    "                                DefaultDtype, # eo\r\n",
    "                                DefaultDtype, # r\r\n",
    "                                ], out_type=[DefaultDtype,DefaultDtype,], in_buff_len=3, out_buff_len=2)\r\n",
    "        \r\n",
    "        self.theta_bar = np.array(theta_bar, dtype=DefaultDtype)\r\n",
    "        self.controller_gains = np.array(actual_controller_gains, dtype=DefaultDtype)\r\n",
    "\r\n",
    "        self.adaptation_law = adaptation_law\r\n",
    "        self.K = K\r\n",
    "        self.Delta = Delta\r\n",
    "        self.sgm = lambda x : x/self.Delta if(np.abs(x)<=self.Delta) else np.sign(x)\r\n",
    "        self.c1 = c1\r\n",
    "        self.c2 = c2\r\n",
    "        self.epsilon1 = epsilon1\r\n",
    "        self.epsilon2 = epsilon2\r\n",
    "        self.acc = 0\r\n",
    "        self.p = lambda : self.epsilon1*np.sign(self.in_buffer[1]) if(np.abs(self.c1*self.in_buffer[1])>=self.epsilon1) else self.c1*self.in_buffer[1]\r\n",
    "        self.z = lambda : 0 if(np.abs(self.acc)>=self.epsilon2 and self.acc*self.in_buffer[1]>0) else self.in_buffer[1] \r\n",
    "        self.i = lambda : self.acc+self.z()*self.h\r\n",
    "        self.mu = mu\r\n",
    "        self.sigma = sigma\r\n",
    "        self.L = L\r\n",
    "        self.att = 10\r\n",
    "\r\n",
    "    def data_in(self, in_data):\r\n",
    "        self.in_buffer = np.array(in_data, dtype=np.float64)\r\n",
    "\r\n",
    "    def data_out(self):\r\n",
    "        theta1, theta2 = self.data_processing()\r\n",
    "        self.out_buffer[:] = np.array([theta1, theta2], dtype=np.float64)\r\n",
    "        self.controller_gains[:] = self.out_buffer\r\n",
    "        return self.out_buffer\r\n",
    "\r\n",
    "    def data_processing(self):\r\n",
    "        if(self.adaptation_law=='default'):\r\n",
    "          theta1 = -self.theta_bar[0]*np.sign(self.in_buffer[1]*self.in_buffer[0])\r\n",
    "          theta2 = -self.theta_bar[1]*np.sign(self.in_buffer[1]*self.in_buffer[2])\r\n",
    "        elif(self.adaptation_law=='compact'):\r\n",
    "          theta1 = -(self.theta_bar[0]*np.abs(self.in_buffer[0])+self.theta_bar[1]*np.abs(self.in_buffer[2]))\r\n",
    "          theta2 = np.sign(self.in_buffer[1])\r\n",
    "        elif(self.adaptation_law=='with_relay'):\r\n",
    "          theta1 = -self.K\r\n",
    "          theta2 = np.sign(self.in_buffer[1])\r\n",
    "        elif(self.adaptation_law=='boundary_layer'):\r\n",
    "          theta1 = -self.K\r\n",
    "          theta2 = self.sgm(self.in_buffer[1])\r\n",
    "        elif(self.adaptation_law=='boundary_layer_with_PI'):\r\n",
    "          self.acc = self.i()\r\n",
    "          theta1 = -self.K*self.sgm(self.in_buffer[1])\r\n",
    "          theta1 -= self.p()\r\n",
    "          theta1 -= self.c2*self.acc\r\n",
    "          theta2 = 1\r\n",
    "        elif(self.adaptation_law=='DMARC'):\r\n",
    "          theta1_dot = -self.sigma*(self.controller_gains[0]+self.theta_bar[0]*np.sign(self.in_buffer[1]*self.in_buffer[0]))\r\n",
    "          theta2_dot = -self.sigma*(self.controller_gains[1]+self.theta_bar[1]*np.sign(self.in_buffer[1]*self.in_buffer[2]))\r\n",
    "          mu = self.mu(self.in_buffer[1],self.L)\r\n",
    "          if(mu<1e-9): mu = 1e-9\r\n",
    "          theta1 = theta1_dot*self.h/mu + self.controller_gains[0]\r\n",
    "          theta2 = theta2_dot*self.h/mu + self.controller_gains[1]\r\n",
    "          \r\n",
    "        return theta1, theta2    "
   ],
   "outputs": [],
   "metadata": {}
  },
  {
   "cell_type": "markdown",
   "source": [
    "## Funções"
   ],
   "metadata": {
    "id": "m2YdK1mb9-2Z"
   }
  },
  {
   "cell_type": "markdown",
   "source": [
    "Deixando as classes de lado, o código abaixo apenas dispõe algumas funções que serão utilizadas ao longo do trabalho:\n",
    "\n",
    "- *SecondOrderTF* inicializa uma função de transferência de segunda ordem dado os parâmetros de $\\omega_n$ e $\\xi$;\n",
    "- *PlotArrays* realiza a apresentação gráfica dos resultados obtidos nas simulações."
   ],
   "metadata": {
    "id": "WYLkaSFBhFYC"
   }
  },
  {
   "cell_type": "code",
   "execution_count": 12,
   "source": [
    "def SecondOrderTF(name='2ndTF', h=0.0001, wn=0, xi=0, initial_conditions=(0,0)):\r\n",
    "  num = np.array([wn**2], dtype=np.float64)\r\n",
    "  den = np.array([1, 2*wn*xi, wn**2], dtype=np.float64)\r\n",
    "  return TF(name=name, h=h, initial_conditions=initial_conditions, numerator=num, denominator=den)\r\n",
    "\r\n",
    "def PlotArrays(t=[], r=[], u=[], y=[], ym=[]):\r\n",
    "  if(len(t)==0): return\r\n",
    "  if(len(u)!=0): \r\n",
    "    fig, ax = plt.subplots(1,2)\r\n",
    "    ax1 = ax[0]\r\n",
    "    ax2 = ax[1] \r\n",
    "  else: \r\n",
    "    fig, ax1 = plt.subplots()\r\n",
    "  # plot\r\n",
    "\r\n",
    "  if(len(r)!=0): ax1.plot(t, r, label='reference')\r\n",
    "  if(len(y)!=0): ax1.plot(t, y, label='output')\r\n",
    "  if(len(ym)!=0): ax1.plot(t, ym, label='ref_output')\r\n",
    "  if(len(u)!=0): ax2.plot(t, u, label='ctrl_signal')\r\n",
    "\r\n",
    "  # management\r\n",
    "  ax1.legend()\r\n",
    "  ax1.set_title('System output to reference')\r\n",
    "  ax1.set_ylabel('Amplitude')\r\n",
    "  ax1.set_xlabel('Time [s]')\r\n",
    "  ax1.grid()\r\n",
    "\r\n",
    "  fig.tight_layout(pad=-5)\r\n",
    "  fig.set_size_inches(5, 3)\r\n",
    "\r\n",
    "  if(len(u)!=0):\r\n",
    "    ax2.legend()\r\n",
    "    ax2.set_title('Control signal')\r\n",
    "    ax2.set_ylabel('Amplitude')\r\n",
    "    ax2.set_xlabel('Time [s]')\r\n",
    "    ax2.grid()\r\n",
    "    fig.tight_layout(pad=-1)\r\n",
    "    fig.set_size_inches(12, 4)"
   ],
   "outputs": [],
   "metadata": {
    "id": "SvTBSBGDR-hH"
   }
  },
  {
   "cell_type": "markdown",
   "source": [
    "# Conjunto de simulações"
   ],
   "metadata": {
    "id": "fYV4SexG62Wz"
   }
  },
  {
   "cell_type": "markdown",
   "source": [
    "## Primeira parte: controle PID clássico"
   ],
   "metadata": {
    "id": "EZ_uh2AqhFYE"
   }
  },
  {
   "cell_type": "markdown",
   "source": [
    "O primeiro ciclo de simulações levará em conta algumas configurações a respeito do sistema de controle em geral e que serão explicitados a seguir.\r\n",
    "\r\n",
    "Como os parâmetros da planta são conhecidos, $k_p = 2$ e $a_p = 1$, tem-se que a função de transferência da planta em malha aberta será:\r\n",
    "\r\n",
    "\\begin{align}\r\n",
    "G_p(s) = \\frac{k_p}{s+a_p} = \\frac{2}{s+1}\r\n",
    "\\end{align}\r\n",
    "\r\n",
    "Esta planta será utilizada ao longo das cinco simulações e possui um comportamento de primeira ordem. Considerando que para uma planta de primeira ordem o seu tempo de estabilização (tempo no qual a saída possuirá um erro de no máximo $2\\%$ do valor de referência) se dá em $4$ vezes a sua constante de tempo, sendo esta representada pelo inverso do polo da planta, ou seja $\\tau = p_1^{-1}$ e $p_1=1$, então seu tempo de estabilização funcionando em malha aberta será $T_{ss,2\\%} = 4/p_1 = 4 s$. A simulação abaixo comprava o comportamento da planta em malha aberta (vale destacar também que para uma referência do tipo degrau, o teorema do valor final para essa função de transferência resulta em $2$):"
   ],
   "metadata": {
    "id": "nJfiEfbDr6nH"
   }
  },
  {
   "cell_type": "markdown",
   "source": [
    "Na célula abaixo também é definida o padrão das simulações utilizado nesse trabalho. Na parte inicial são definidas informações sobre o tempo de simulação e o período de amostragem. Em seguida os blocos necessários são instanciados. Depois a simulação é executada dentro do loop for, onde o método **work** de cada bloco é chamado para pegar a entrada e processar a saída e em seguida as entradas e saídas são distribuídas de acordo com a natureza de cada bloco. Por fim os resultados são apresentados. Essa estrutura básica será usada de agora em diante e não será mais explicada em detalhes, a menos de quando blocos com configurações novas forem utilizados."
   ],
   "metadata": {
    "id": "U4gVLnrOhFYE"
   }
  },
  {
   "cell_type": "code",
   "execution_count": null,
   "source": [
    "# Simulação da planta em malha aberta\r\n",
    "\r\n",
    "start = time.process_time()\r\n",
    "\r\n",
    "# Parte 1: configuração da simulação\r\n",
    "\r\n",
    "h = 0.01 # seconds\r\n",
    "tend = 5 # seconds\r\n",
    "samples = np.int32(np.round(tend/h))\r\n",
    "t = np.arange(samples)*h\r\n",
    "\r\n",
    "# Parte 2: instanciamento dos blocos\r\n",
    "const = Source(name='Source', h=h, amplitude=lambda t:1)\r\n",
    "plant = TF(name='Planta', h=h, initial_conditions=[0.5], numerator=[2], denominator=[1,1])\r\n",
    "\r\n",
    "# Parte 3: execução da simulação\r\n",
    "r, y = ([],[])\r\n",
    "for sim in range(samples):\r\n",
    "  source = const.work()\r\n",
    "  outPlant = plant.work(source)\r\n",
    "\r\n",
    "  y.append(outPlant)\r\n",
    "  r.append(source)\r\n",
    "\r\n",
    "# Parte 4: apresentação dos resultados\r\n",
    "PlotArrays(t=t,r=r,y=y)\r\n",
    "print('Duration: ' + str(time.process_time()-start) + ' seconds')"
   ],
   "outputs": [
    {
     "output_type": "display_data",
     "data": {
      "text/plain": [
       "<Figure size 360x216 with 1 Axes>"
      ],
      "image/png": "[encoded data removed]"
     },
     "metadata": {
      "needs_background": "light",
      "tags": []
     }
    }
   ],
   "metadata": {
    "cellView": "form",
    "colab": {
     "base_uri": "https://localhost:8080/",
     "height": 350
    },
    "executionInfo": {
     "elapsed": 708,
     "status": "ok",
     "timestamp": 1626129702440,
     "user": {
      "displayName": "Levy Gabriel",
      "photoUrl": "https://lh3.googleusercontent.com/a-/AOh14Gh1oZgUqGB_6oi--gsnCQuu9LzMpfCX4SJd3TPucw=s64",
      "userId": "05194170306051508520"
     },
     "user_tz": 180
    },
    "id": "6qD057vepRq6",
    "outputId": "1ff1c28a-0d73-457c-e831-19fe4e0ec6e7"
   }
  },
  {
   "cell_type": "markdown",
   "source": [
    "Diferente da planta que possui uma dinâmica de primeira ordem, mais a frente nas simulações quatro e cinco será adicionada uma dinâmica desconhecida de segunda ordem com os parâmetros $\\omega_n^2=229$ e $2\\xi \\omega_n = 30$ na forma:\r\n",
    "\r\n",
    "\\begin{align}\r\n",
    "H(s) = \\frac{\\omega_n^2}{s+2\\xi \\omega_n s+ \\omega_n^2}  = \\frac{229}{s^2+30s+229} \\tag{2}\r\n",
    "\\end{align}\r\n",
    "\r\n",
    "Por fim, o controlador usado será um PI com parâmetros variáveis de acordo com cada experimento e terá a forma:\r\n",
    "\r\n",
    "\\begin{align}\r\n",
    "G_c(s) = k_1 + \\frac{k_2}{s} \\tag{3}\r\n",
    "\\end{align}\r\n",
    "\r\n",
    "O sistema completo terá uma realimentação negativa e obedecerá o seguinte diagrama:"
   ],
   "metadata": {
    "id": "bCQyTD4SpQ4i"
   }
  },
  {
   "cell_type": "code",
   "execution_count": 11,
   "source": [
    "display(Image(filename='images/figura1.jpg'))"
   ],
   "outputs": [
    {
     "output_type": "display_data",
     "data": {
      "text/plain": [
       "<IPython.core.display.Image object>"
      ],
      "image/jpeg": "[encoded data removed]"
     },
     "metadata": {}
    }
   ],
   "metadata": {
    "id": "BmyUVxK1hXg3"
   }
  },
  {
   "cell_type": "markdown",
   "source": [
    "OBS: Nas três primeiras simulações a dinâmica não modelada $H(s)$ não estará presente, dessa forma podendo desconsiderar sua existência ou fazer $H(s)=1$."
   ],
   "metadata": {
    "id": "Jidcj2nL2Qju"
   }
  },
  {
   "cell_type": "markdown",
   "source": [
    "#### Primeira simulação"
   ],
   "metadata": {
    "id": "BK5q8I2ndjHR"
   }
  },
  {
   "cell_type": "markdown",
   "source": [
    "Nesta simulação os parâmetros do controlador são $k_1=k_2=1.5$, portanto a função de transferência de malha fechada será:\n",
    "\n",
    "\\begin{align}\n",
    "G_{MF}(s) = \\frac{G_pG_c}{1+G_pG_c} = \\frac{num(G_pG_c)}{num(G_pG_c)+den(G_pG_c)} = \\frac{3}{s+3} \n",
    "\\end{align}\n",
    "\n",
    "Com: $G_pG_c(s) = \\frac{3}{s}$.\n",
    "\n",
    "Como observado na função de transferência de malha fechada o único polo ficou localizado em $p_1=-3$, como esperado no enunciado da simulação. Em termos do tempo de estabilização, este possuirá um valor esperado de $T_{ss,2\\%} = 4/p_1 = 1.33 \\, s$."
   ],
   "metadata": {
    "id": "nK6nWpQvn4q2"
   }
  },
  {
   "cell_type": "code",
   "execution_count": null,
   "source": [
    "# Primeira simulação\r\n",
    "\r\n",
    "start = time.process_time()\r\n",
    "\r\n",
    "h = 0.0001 # seconds\r\n",
    "tend = 2.5 # seconds\r\n",
    "samples = np.int32(np.round(tend/h))\r\n",
    "t = np.arange(samples)*h\r\n",
    "\r\n",
    "const = Source(name='Source', h=h, amplitude=lambda t:1)\r\n",
    "sub = Sum(name='Sum', ports_gains=(1,-1)) \r\n",
    "plant = TF(name='Planta', h=h, initial_conditions=[0.5], numerator=[2], denominator=[1,1])\r\n",
    "ctrl = PID(name='PI', h=h, Kp=1.5, Ki=1.5, Kd=0)\r\n",
    "\r\n",
    "r, y, u = ([],[],[])\r\n",
    "outPlant = plant.get_out()\r\n",
    "for sim in range(samples):\r\n",
    "  source = const.work()\r\n",
    "  error = sub.work([source, outPlant])\r\n",
    "  outCtrl = ctrl.work(error)\r\n",
    "  outPlant = plant.work(outCtrl)\r\n",
    "\r\n",
    "  y.append(outPlant)\r\n",
    "  r.append(source)\r\n",
    "  u.append(outCtrl)\r\n",
    "\r\n",
    "PlotArrays(t=t,r=r,y=y,u=u)\r\n",
    "print('Duration: ' + str(time.process_time()-start) + ' seconds')"
   ],
   "outputs": [
    {
     "output_type": "display_data",
     "data": {
      "text/plain": [
       "<Figure size 864x288 with 2 Axes>"
      ],
      "image/png": "[encoded data removed]"
     },
     "metadata": {
      "needs_background": "light",
      "tags": []
     }
    }
   ],
   "metadata": {
    "cellView": "form",
    "colab": {
     "base_uri": "https://localhost:8080/",
     "height": 333
    },
    "executionInfo": {
     "elapsed": 4021,
     "status": "ok",
     "timestamp": 1626129730508,
     "user": {
      "displayName": "Levy Gabriel",
      "photoUrl": "https://lh3.googleusercontent.com/a-/AOh14Gh1oZgUqGB_6oi--gsnCQuu9LzMpfCX4SJd3TPucw=s64",
      "userId": "05194170306051508520"
     },
     "user_tz": 180
    },
    "id": "62bDIFql3-ch",
    "outputId": "caada044-eee3-4cd2-dea1-b4f74f035d2a"
   }
  },
  {
   "cell_type": "markdown",
   "source": [
    "Os resultados da simulação corroboram com um projeto adequado de controlador, uma vez que o tempo de estabilização esteve dentro do esperando, implicando que o polo de malha fechada desejado de $p_1=-3$ foi de fato alcançado.\n",
    "\n",
    "O sinal de controle apresentou-se bastante suave, matendo sua continuidade ao longo de toda a simulação."
   ],
   "metadata": {
    "id": "NXIfB1qWqjAs"
   }
  },
  {
   "cell_type": "markdown",
   "source": [
    "####  Segunda simulação"
   ],
   "metadata": {
    "id": "v3ao-zwwd1ME"
   }
  },
  {
   "cell_type": "markdown",
   "source": [
    "Nesta simulação os parâmetros do controlador são $k_1=1.2$ e $k_2=0.6$, portanto a função de transferência de malha fechada será:\n",
    "\n",
    "\\begin{align}\n",
    "G_{MF}(s) =\\frac{2.4s+1.2}{s^2+3.4s+1.2}\n",
    "\\end{align}\n",
    "\n",
    "Com: $G_pG_c(s) = \\frac{2.4s+1.2}{s(s+1)}$.\n",
    "\n",
    "Assim os polos ficaram localizados em $p_1=-3$ e $p_2=-0.4$ e um zero em $z_1=-0.5$. O polo menor em $-0.4$ irá inserir um comportamento mais lento ao sistema que o polo anterior e o desempenho desejado de apenas um polo em $-3$ não será totalmente obtido.\n",
    "\n",
    "Como os dois polos são reais e diferentes, este sistema é superamortecido."
   ],
   "metadata": {
    "id": "KgX6Yxtm2sQP"
   }
  },
  {
   "cell_type": "code",
   "execution_count": null,
   "source": [
    "# Segunda simulação\r\n",
    "\r\n",
    "start = time.process_time()\r\n",
    "\r\n",
    "h = 0.0001 # seconds\r\n",
    "tend = 10 # seconds\r\n",
    "samples = np.int32(np.round(tend/h))\r\n",
    "t = np.arange(samples)*h\r\n",
    "\r\n",
    "const = Source(name='Source', h=h, amplitude=lambda t:1)\r\n",
    "sub = Sum(name='Sum', ports_gains=(1,-1)) \r\n",
    "plant = TF(name='Planta', h=h, initial_conditions=[0.5], numerator=[2], denominator=[1,1])\r\n",
    "ctrl = PID(name='PI', h=h, Kp=1.2, Ki=0.6, Kd=0)\r\n",
    "\r\n",
    "r, y, u = ([],[],[])\r\n",
    "outPlant = plant.get_out()\r\n",
    "for sim in range(samples):\r\n",
    "  source = const.work()\r\n",
    "  error = sub.work([source, outPlant])\r\n",
    "  outCtrl = ctrl.work(error)\r\n",
    "  outPlant = plant.work(outCtrl)\r\n",
    "\r\n",
    "  y.append(outPlant)\r\n",
    "  r.append(source)\r\n",
    "  u.append(outCtrl)\r\n",
    "\r\n",
    "PlotArrays(t=t,r=r,y=y,u=u)\r\n",
    "print('Duration: ' + str(time.process_time()-start) + ' seconds')"
   ],
   "outputs": [
    {
     "output_type": "display_data",
     "data": {
      "text/plain": [
       "<Figure size 864x288 with 2 Axes>"
      ],
      "image/png": "[encoded data removed]"
     },
     "metadata": {
      "needs_background": "light",
      "tags": []
     }
    }
   ],
   "metadata": {
    "colab": {
     "base_uri": "https://localhost:8080/",
     "height": 333
    },
    "executionInfo": {
     "elapsed": 11571,
     "status": "ok",
     "timestamp": 1626129750056,
     "user": {
      "displayName": "Levy Gabriel",
      "photoUrl": "https://lh3.googleusercontent.com/a-/AOh14Gh1oZgUqGB_6oi--gsnCQuu9LzMpfCX4SJd3TPucw=s64",
      "userId": "05194170306051508520"
     },
     "user_tz": 180
    },
    "id": "YufPWx1Z4I7p",
    "outputId": "478209dc-f85f-42dd-8bea-3c250ab4f117"
   }
  },
  {
   "cell_type": "markdown",
   "source": [
    "Ao comparar os resultados deste projeto com o da primeira simulação, observa-se que este está longe do ideal. Enquanto que a dinâmica desejada requeriria um tempod e estabilização de $1.33 \\, s$, este sistema apresentou um tempo bem maior de $5.55 \\, s$.\n",
    "\n",
    "Esse atraso para alcançar o baixo critério de erro em regime se deve ao fato da parcela integrativa do controlador ter sido reduzida. \n",
    "\n",
    "Uma vez que a parcela proporcional do controlador se manteve alta, esta ocasionou um sinal de controle de alta amplitude no início."
   ],
   "metadata": {
    "id": "G_MZzf3xuvPY"
   }
  },
  {
   "cell_type": "markdown",
   "source": [
    "####  Terceira simulação"
   ],
   "metadata": {
    "id": "9OVNYJkHd5_m"
   }
  },
  {
   "cell_type": "markdown",
   "source": [
    "Nesta simulação os parâmetros do controlador são $k_1=0.9$ e $k_2=1.4$, portanto a função de transferência de malha fechada será:\n",
    "\n",
    "\\begin{align}\n",
    "G_{MF}(s) =\\frac{1.8s+2.8}{s^2+2.8s+2.8}\n",
    "\\end{align}\n",
    "\n",
    "Com: $G_pG_c(s) = \\frac{1.8s+2.8}{s(s+1)}$.\n",
    "\n",
    "Assim os polos são complexos $p=-1.4 \\pm j0.91$ e um zero em $z_1=-1.55$. O polo menor em $-0.4$ irá inserir um comportamento mais lento ao sistema que o polo anterior.\n",
    "\n",
    "Como os dois polos são complexos conjugados, este sistema é subamortecido."
   ],
   "metadata": {
    "id": "9I4_nSj73y7w"
   }
  },
  {
   "cell_type": "code",
   "execution_count": null,
   "source": [
    "# Terceira simulação\r\n",
    "\r\n",
    "start = time.process_time()\r\n",
    "\r\n",
    "h = 0.0001 # seconds\r\n",
    "tend = 5 # seconds\r\n",
    "samples = np.int32(np.round(tend/h))\r\n",
    "t = np.arange(samples)*h\r\n",
    "\r\n",
    "const = Source(name='Source', h=h, amplitude=lambda t:1)\r\n",
    "sub = Sum(name='Sum', ports_gains=(1,-1)) \r\n",
    "plant = TF(name='Planta', h=h, initial_conditions=[0.5], numerator=[2], denominator=[1,1])\r\n",
    "ctrl = PID(name='PI', h=h, Kp=0.9, Ki=1.4, Kd=0)\r\n",
    "\r\n",
    "r, y, u = ([],[],[])\r\n",
    "outPlant = plant.get_out()\r\n",
    "for sim in range(samples):\r\n",
    "  source = const.work()\r\n",
    "  error = sub.work([source, outPlant])\r\n",
    "  outCtrl = ctrl.work(error)\r\n",
    "  outPlant = plant.work(outCtrl)\r\n",
    "  y.append(outPlant)\r\n",
    "  r.append(source)\r\n",
    "  u.append(outCtrl)\r\n",
    "\r\n",
    "PlotArrays(t=t,r=r,y=y,u=u)\r\n",
    "print('Duration: ' + str(time.process_time()-start) + ' seconds')"
   ],
   "outputs": [
    {
     "output_type": "display_data",
     "data": {
      "text/plain": [
       "<Figure size 864x288 with 2 Axes>"
      ],
      "image/png": "[encoded data removed]"
     },
     "metadata": {
      "needs_background": "light",
      "tags": []
     }
    }
   ],
   "metadata": {
    "colab": {
     "base_uri": "https://localhost:8080/",
     "height": 333
    },
    "executionInfo": {
     "elapsed": 5900,
     "status": "ok",
     "timestamp": 1626129755936,
     "user": {
      "displayName": "Levy Gabriel",
      "photoUrl": "https://lh3.googleusercontent.com/a-/AOh14Gh1oZgUqGB_6oi--gsnCQuu9LzMpfCX4SJd3TPucw=s64",
      "userId": "05194170306051508520"
     },
     "user_tz": 180
    },
    "id": "H_ACqnBx4I4L",
    "outputId": "7c4203b3-9d47-41d5-ff86-d787c16babd3"
   }
  },
  {
   "cell_type": "markdown",
   "source": [
    "Essa simulação apresentou um tempo de estabilização menor que a anterior. Porém ainda não tão ideal quanto a primeira simulação. A resposta também apresentou uma leve ultrapassagem acima do valor de referência, mas foi rapidamente resolvida."
   ],
   "metadata": {
    "id": "zCnFpto_wJ-4"
   }
  },
  {
   "cell_type": "markdown",
   "source": [
    "#### Quarta simulação"
   ],
   "metadata": {
    "id": "_xfqQthad-39"
   }
  },
  {
   "cell_type": "markdown",
   "source": [
    "Nesta simulação os parâmetros do controlador são $k_1=1.2$ e $k_2=0.6$, porém a dinâmica desconhecida $H(s)$ foi adicionada, portanto a função de transferência de malha fechada será:\n",
    "\n",
    "\\begin{align}\n",
    "G_{MF}(s) =\\frac{549s+274.8}{s^4+31s^3+259s^2+778s+274.8}\n",
    "\\end{align}\n",
    "\n",
    "Com: $G_pG_c(s) = \\frac{549s+274.8}{s(s^3+31s^2+259s+229)}$.\n",
    "\n",
    "Assim os polos são variados $p_{1,2}=6.707 \\pm j10.32$, $p_3=-15.2$ e $p_4=-29.2$ e um zero em $z_1=-0.5$. \n",
    "\n",
    "Os polos mais afastados ($p_3$ e $p_4$) dos polos dominantes $p_{1,2}$ irão adicionar uma dinâmica bem rápida e com influência apeans nos momentos iniciais da resposta."
   ],
   "metadata": {
    "id": "jYvHa5mG51BS"
   }
  },
  {
   "cell_type": "code",
   "execution_count": null,
   "source": [
    "# Quarta simulação\r\n",
    "\r\n",
    "start = time.process_time()\r\n",
    "\r\n",
    "h = 0.0001 # seconds\r\n",
    "tend = 10 # seconds\r\n",
    "samples = np.int32(np.round(tend/h))\r\n",
    "t = np.arange(samples)*h\r\n",
    "\r\n",
    "const = Source(name='Source', h=h, amplitude=lambda t:1)\r\n",
    "sub = Sum(name='Sum', ports_gains=(1,-1)) \r\n",
    "#unkDyn = SecondOrderTF(name='2ndTF', h=0.0001, wn=np.sqrt(229), xi=30/2/np.sqrt(229), initial_conditions=(0,0))\r\n",
    "unkDyn = TF(name='2ndTF', h=h, initial_conditions=[0,0], numerator=[229], denominator=[1,30,229])\r\n",
    "plant = TF(name='Planta', h=h, initial_conditions=[0.5], numerator=[2], denominator=[1,1])\r\n",
    "ctrl = PID(name='PI', h=h, Kp=1.2, Ki=0.6, Kd=0)\r\n",
    "\r\n",
    "r, y, u = ([],[],[])\r\n",
    "outPlant = plant.get_out()\r\n",
    "for sim in range(samples):\r\n",
    "  source = const.work()\r\n",
    "  error = sub.work([source, outPlant])\r\n",
    "  outCtrl = ctrl.work(error)\r\n",
    "  outDyn = unkDyn.work(outCtrl)\r\n",
    "  outPlant = plant.work(outDyn)\r\n",
    "  y.append(outPlant)\r\n",
    "  r.append(source)\r\n",
    "  u.append(outCtrl)\r\n",
    "\r\n",
    "PlotArrays(t=t,r=r,y=y,u=u)\r\n",
    "print('Duration: ' + str(time.process_time()-start) + ' seconds')"
   ],
   "outputs": [
    {
     "output_type": "display_data",
     "data": {
      "text/plain": [
       "<Figure size 864x288 with 2 Axes>"
      ],
      "image/png": "[encoded data removed]"
     },
     "metadata": {
      "needs_background": "light",
      "tags": []
     }
    }
   ],
   "metadata": {
    "colab": {
     "base_uri": "https://localhost:8080/",
     "height": 333
    },
    "executionInfo": {
     "elapsed": 19409,
     "status": "ok",
     "timestamp": 1626129775331,
     "user": {
      "displayName": "Levy Gabriel",
      "photoUrl": "https://lh3.googleusercontent.com/a-/AOh14Gh1oZgUqGB_6oi--gsnCQuu9LzMpfCX4SJd3TPucw=s64",
      "userId": "05194170306051508520"
     },
     "user_tz": 180
    },
    "id": "4UbkcQIO4I0H",
    "outputId": "8717f266-2824-4b9e-e463-ea2c69b4abc6"
   }
  },
  {
   "cell_type": "markdown",
   "source": [
    "De acordo com a simulação o sistema possui um comportamento inicial de fase não-mínima, porém logo se recompõe, influenciado pelo seu sinal de controle que inicialmente possuia comportamento crescente, mas alternou para um comportamento decrescente.\n",
    "\n",
    "O baixo ganho integrativo do controlador também contribui para que o erro em regime reduza rapidamente."
   ],
   "metadata": {
    "id": "ypmNoGnxyAhn"
   }
  },
  {
   "cell_type": "markdown",
   "source": [
    "#### Quinta simulação"
   ],
   "metadata": {
    "id": "Y4uSlMnueBVC"
   }
  },
  {
   "cell_type": "markdown",
   "source": [
    "Nesta simulação os parâmetros do controlador são $k_1=0.9$ e $k_2=1.4$, porém a dinâmica desconhecida $H(s)$ foi adicionada, portanto a função de transferência de malha fechada será:\n",
    "\n",
    "\\begin{align}\n",
    "G_{MF}(s) =\\frac{412.2s+641.2}{s^4+31s^3+259s^2+641.2s+641.2}\n",
    "\\end{align}\n",
    "\n",
    "Com: $G_pG_c(s) = \\frac{412.2s+641.2}{s(s^3+31s^2+259s+229)}$.\n",
    "\n",
    "Assim os polos são variados $p_{1,2}=6.74 \\pm j10.25$, $p_3=-15.5$ e $p_4=-28.98.2$ e um zero em $z_1=-1.55$. "
   ],
   "metadata": {
    "id": "rmwJJwI18uWd"
   }
  },
  {
   "cell_type": "code",
   "execution_count": null,
   "source": [
    "# Quinta simulação\r\n",
    "\r\n",
    "start = time.process_time()\r\n",
    "\r\n",
    "h = 0.0001 # seconds\r\n",
    "tend = 6 # seconds\r\n",
    "samples = np.int32(np.round(tend/h))\r\n",
    "t = np.arange(samples)*h\r\n",
    "\r\n",
    "const = Source(name='Source', h=h, amplitude=lambda t:1)\r\n",
    "sub = Sum(name='Sum', ports_gains=(1,-1)) \r\n",
    "#unkDyn = SecondOrderTF(name='2ndTF', h=0.0001, wn=np.sqrt(229), xi=30/2/np.sqrt(229), initial_conditions=(0,0))\r\n",
    "unkDyn = TF(name='2ndTF', h=h, initial_conditions=[0,0], numerator=[229], denominator=[1,30,229])\r\n",
    "plant = TF(name='Planta', h=h, initial_conditions=[0.5], numerator=[2], denominator=[1,1])\r\n",
    "ctrl = PID(name='PI', h=h, Kp=0.9, Ki=1.4, Kd=0)\r\n",
    "\r\n",
    "r, y, u = ([],[],[])\r\n",
    "outPlant = plant.get_out()\r\n",
    "for sim in range(samples):\r\n",
    "  source = const.work()\r\n",
    "  error = sub.work([source, outPlant])\r\n",
    "  outCtrl = ctrl.work(error)\r\n",
    "  outDyn = unkDyn.work(outCtrl)\r\n",
    "  outPlant = plant.work(outDyn)\r\n",
    "  y.append(outPlant)\r\n",
    "  r.append(source)\r\n",
    "  u.append(outCtrl)\r\n",
    "\r\n",
    "PlotArrays(t=t,r=r,y=y,u=u)\r\n",
    "print('Duration: ' + str(time.process_time()-start) + ' seconds')"
   ],
   "outputs": [
    {
     "output_type": "display_data",
     "data": {
      "text/plain": [
       "<Figure size 864x288 with 2 Axes>"
      ],
      "image/png": "[encoded data removed]"
     },
     "metadata": {
      "needs_background": "light",
      "tags": []
     }
    }
   ],
   "metadata": {
    "colab": {
     "base_uri": "https://localhost:8080/",
     "height": 333
    },
    "executionInfo": {
     "elapsed": 11567,
     "status": "ok",
     "timestamp": 1626129786886,
     "user": {
      "displayName": "Levy Gabriel",
      "photoUrl": "https://lh3.googleusercontent.com/a-/AOh14Gh1oZgUqGB_6oi--gsnCQuu9LzMpfCX4SJd3TPucw=s64",
      "userId": "05194170306051508520"
     },
     "user_tz": 180
    },
    "id": "xzTL01E34In7",
    "outputId": "7f5d9f91-1c5d-4f08-a58c-2e68bc99a123"
   }
  },
  {
   "cell_type": "markdown",
   "source": [
    "Esta simulação ainda apresenta os efeitos da dinâmica desconhecida, com um comportamento de fase não-mínima, mas agora com um tempo de estabilização menor devido ao aumento da parcela integrativa do controlador."
   ],
   "metadata": {
    "id": "ZSD-E6b10Vxr"
   }
  },
  {
   "cell_type": "markdown",
   "source": [
    "## Segunda parte: controle adaptativo por modelo de referência (MRAC)"
   ],
   "metadata": {
    "id": "B6QTOIuYhFYQ"
   }
  },
  {
   "cell_type": "markdown",
   "source": [
    "As simulações descritas aqui contarão com três modelos distintos de planta. Sendo eles:\n",
    "\n",
    "\n",
    "\n",
    "\n",
    "\n"
   ],
   "metadata": {
    "id": "OKXMS-4ThFYQ"
   }
  },
  {
   "cell_type": "markdown",
   "source": [
    "- Modelo nominal da planta com $k_p=2$ e $a_p=1$:\n",
    "\n"
   ],
   "metadata": {
    "id": "sYESzJgnu_qi"
   }
  },
  {
   "cell_type": "code",
   "execution_count": 12,
   "source": [
    "display(Image(filename='images/figura2.jpg'))"
   ],
   "outputs": [
    {
     "output_type": "display_data",
     "data": {
      "text/plain": [
       "<IPython.core.display.Image object>"
      ],
      "image/jpeg": "[encoded data removed]"
     },
     "metadata": {}
    }
   ],
   "metadata": {
    "colab": {
     "base_uri": "https://localhost:8080/",
     "height": 306
    },
    "executionInfo": {
     "elapsed": 8,
     "status": "error",
     "timestamp": 1628304997598,
     "user": {
      "displayName": "Levy Gabriel",
      "photoUrl": "https://lh3.googleusercontent.com/a-/AOh14Gh1oZgUqGB_6oi--gsnCQuu9LzMpfCX4SJd3TPucw=s64",
      "userId": "05194170306051508520"
     },
     "user_tz": 180
    },
    "id": "RGQHrhM4hikI",
    "outputId": "e3d9175e-eaf3-4f8b-dc43-f5887db7bd90"
   }
  },
  {
   "cell_type": "markdown",
   "source": [
    "- Modelo real da planta nominal com $2\\xi \\omega_n= 30$ e $\\omega_n^2=229$:\n"
   ],
   "metadata": {
    "id": "_hPteIBnvAzR"
   }
  },
  {
   "cell_type": "code",
   "execution_count": 13,
   "source": [
    "display(Image(filename='images/figura3.jpg'))"
   ],
   "outputs": [
    {
     "output_type": "display_data",
     "data": {
      "text/plain": [
       "<IPython.core.display.Image object>"
      ],
      "image/jpeg": "[encoded data removed]"
     },
     "metadata": {}
    }
   ],
   "metadata": {
    "colab": {
     "base_uri": "https://localhost:8080/",
     "height": 306
    },
    "executionInfo": {
     "elapsed": 8,
     "status": "error",
     "timestamp": 1628304996313,
     "user": {
      "displayName": "Levy Gabriel",
      "photoUrl": "https://lh3.googleusercontent.com/a-/AOh14Gh1oZgUqGB_6oi--gsnCQuu9LzMpfCX4SJd3TPucw=s64",
      "userId": "05194170306051508520"
     },
     "user_tz": 180
    },
    "id": "aKl-sW0XhoAh",
    "outputId": "c0f2d6b1-6c41-4677-c42f-e66bfc03d388"
   }
  },
  {
   "cell_type": "markdown",
   "source": [
    "\n",
    "- Modelo de referência com $k_m=3$ e $a_m=3$:"
   ],
   "metadata": {
    "id": "6-wpuktzvBxL"
   }
  },
  {
   "cell_type": "code",
   "execution_count": 14,
   "source": [
    "display(Image(filename='images/figura4.jpg'))"
   ],
   "outputs": [
    {
     "output_type": "display_data",
     "data": {
      "text/plain": [
       "<IPython.core.display.Image object>"
      ],
      "image/jpeg": "[encoded data removed]"
     },
     "metadata": {}
    }
   ],
   "metadata": {
    "colab": {
     "base_uri": "https://localhost:8080/",
     "height": 306
    },
    "executionInfo": {
     "elapsed": 298,
     "status": "error",
     "timestamp": 1628304995063,
     "user": {
      "displayName": "Levy Gabriel",
      "photoUrl": "https://lh3.googleusercontent.com/a-/AOh14Gh1oZgUqGB_6oi--gsnCQuu9LzMpfCX4SJd3TPucw=s64",
      "userId": "05194170306051508520"
     },
     "user_tz": 180
    },
    "id": "KajTxcUghpnp",
    "outputId": "f118486b-06e1-41e3-e204-01c366d24015"
   }
  },
  {
   "cell_type": "markdown",
   "source": [
    "Os comentários que podem ser tecidos acerca desses modelos são:\n",
    "\n",
    "- A planta nominal e o modelo de referência sempre seguirão esse modelo e serão de primeira ordem;\n",
    "- A dinâmica não modelada também seguirá o mesmo modelo de segunda ordem indicado acima;\n",
    "- Será utilizado em todas as simulações o método de Euler com passo $h = 100  \\mu s$."
   ],
   "metadata": {
    "id": "e5ig9hL6xgdP"
   }
  },
  {
   "cell_type": "markdown",
   "source": [
    "Nesse segundo ciclo de simulações será utilizado como base o sistema de **Controle Adaptativo por Modelo de Referência** (MRAC). Seu diagrama de blocos está representado abaixo. \n",
    "\n",
    "Como definidos anteriormente, o modelo de referência e da planta (formato nominal e real) serão estáticos. O que diferenciará em alguns momentos é que os parâmetros da planta serão ditos desconhecidos (apesar da planta ser simulada sempre com os parâmetros dados anteriormente), fazendo com que apenas o projeto do controlador seja alterado. \n",
    "\n",
    "O modelo do controlador será um do tipo proporcional generalizado com distintos coeficientes proporcionais atuando sobre o valor de referência e o valor de saída, assim resultando na seguinte equação para o sinal de controle $u$:\n",
    "\n",
    "\\begin{align}\n",
    "u = \\theta_{C1}y + \\theta_{C2}r\n",
    "\\end{align}\n",
    "\n",
    "Ao longo das simulações o que será alterado é a forma com que o estimador irá influenciar os parâmetros do controlador."
   ],
   "metadata": {
    "id": "doA-kUXcCkSj"
   }
  },
  {
   "cell_type": "code",
   "execution_count": 15,
   "source": [
    "display(Image(filename='images/figura5.jpg'))"
   ],
   "outputs": [
    {
     "output_type": "display_data",
     "data": {
      "text/plain": [
       "<IPython.core.display.Image object>"
      ],
      "image/jpeg": "[encoded data removed]"
     },
     "metadata": {}
    }
   ],
   "metadata": {
    "colab": {
     "base_uri": "https://localhost:8080/",
     "height": 306
    },
    "executionInfo": {
     "elapsed": 291,
     "status": "error",
     "timestamp": 1628304976064,
     "user": {
      "displayName": "Levy Gabriel",
      "photoUrl": "https://lh3.googleusercontent.com/a-/AOh14Gh1oZgUqGB_6oi--gsnCQuu9LzMpfCX4SJd3TPucw=s64",
      "userId": "05194170306051508520"
     },
     "user_tz": 180
    },
    "id": "92TNs-ovh2XP",
    "outputId": "1967bd2b-da59-412c-c9e5-472f71eeaac0"
   }
  },
  {
   "cell_type": "markdown",
   "source": [
    "Abaixo os dados comuns às plantas descritas anteriormente podem ser carregados"
   ],
   "metadata": {
    "id": "KhlB51jKhFYX"
   }
  },
  {
   "cell_type": "code",
   "execution_count": 16,
   "source": [
    "# Execute para armazenar os dados das simulações\r\n",
    "\r\n",
    "km = 3 \r\n",
    "am = 3 \r\n",
    "kp = 2 \r\n",
    "ap = 1 \r\n",
    "xi2wn = 30 \r\n",
    "wn2 = 229 "
   ],
   "outputs": [],
   "metadata": {
    "cellView": "form",
    "id": "xVOXfbtanAc1"
   }
  },
  {
   "cell_type": "markdown",
   "source": [
    "Ao longo das simulações dessa parte o único bloco a ser alterado será o estimador e, eventualmente, a referência $r$. Também um ruído senoidal (fonte senoidal) pode ser adicionada à saída da planta. \n",
    "\n",
    "Salve essas exceções, os demais blocos permanecerão os mesmos. Para reiniciar os parâmetros desses blocos de uma simulação para a outra será utilizado o método **reset**. Os blocos que terão os parâmetros reiniciados são: a planta nominal, a dinâmica não modelada, o modelo de referência e o controlador adaptativo (esse controlador possui seus parâmetros alterados pelo estimador, por isso necessitando a redefinição).\n",
    "\n",
    "Vide abaixo a inicialização dos blocos a serem utilizados:"
   ],
   "metadata": {
    "id": "HIq0T_vQhFYX"
   }
  },
  {
   "cell_type": "code",
   "execution_count": 17,
   "source": [
    "# Basic blocks for simulation\r\n",
    "\r\n",
    "h = 0.0001 # sampling period in seconds commom for all simulation\r\n",
    "sub = Sum(name='Subtraction', ports_gains=(1,-1)) # immutable subtraction block\r\n",
    "nomPlant = TF(name='NominalPlant', h=h, initial_conditions=[0.5], \r\n",
    "              numerator=[kp], denominator=[1,ap]) # nominal plant\r\n",
    "refPlant = TF(name='ReferenceModel', h=h, initial_conditions=[0], \r\n",
    "              numerator=[km], denominator=[1,am]) # reference model\r\n",
    "unkDyn = TF(name='2ndTF', h=h, initial_conditions=[0,0], \r\n",
    "            numerator=[wn2], denominator=[1,xi2wn,wn2]) # unknown dynamics\r\n",
    "ctrl = AdaptiveController(name='AdaptiveController', \r\n",
    "                          ports_gains = [(ap-am)/kp, km/kp]) # adaptive controller"
   ],
   "outputs": [],
   "metadata": {
    "id": "GRkv1895hFYY"
   }
  },
  {
   "cell_type": "markdown",
   "source": [
    "Como o formato de algumas simulações se repetem, abaixo serão criadas algumas funções para encapsular essas simulações básicas."
   ],
   "metadata": {
    "id": "24cfLiW0hFYY"
   }
  },
  {
   "cell_type": "code",
   "execution_count": 29,
   "source": [
    "# simulação apenas com o modelo nominal da planta\n",
    "def sim_nominal(h, tend, const, nomPlant, refPlant, ctrl, estimator):\n",
    "    samples = np.int32(np.round(tend/h))\n",
    "    t = np.arange(samples)*h\n",
    "    r, y, ym, u = ([],[],[],[])\n",
    "    outPlant = nomPlant.get_out()\n",
    "    outRefPlant = refPlant.get_out() \n",
    "    for sim in range(samples):\n",
    "      source = const.work()\n",
    "      error = sub.work([outPlant, outRefPlant])\n",
    "      outCtrl = ctrl.work([outPlant, source])\n",
    "      outPlant = nomPlant.work(outCtrl)\n",
    "      outRefPlant = refPlant.work(source)\n",
    "      ctrl.set_parameters(estimator.work([outPlant,error,source]))\n",
    "\n",
    "      y.append(outPlant)\n",
    "      ym.append(outRefPlant)\n",
    "      r.append(source)\n",
    "      u.append(outCtrl)\n",
    "\n",
    "    PlotArrays(t=t,r=r,y=y,u=u,ym=ym)\n",
    "    \n",
    "# simulação com dinâmica não modelada inserida tornando o modelo real da planta\n",
    "def sim_real(h, tend, const, nomPlant, refPlant, unkDyn, ctrl, estimator):\n",
    "    samples = np.int32(np.round(tend/h))\n",
    "    t = np.arange(samples)*h\n",
    "    r, y, ym, u = ([],[],[],[])\n",
    "    outPlant = nomPlant.get_out()\n",
    "    outRefPlant = refPlant.get_out() \n",
    "    for sim in range(samples):\n",
    "      source = const.work()\n",
    "      error = sub.work([outPlant, outRefPlant])\n",
    "      outCtrl = ctrl.work([outPlant, source])\n",
    "      signalCtrl= unkDyn.work(outCtrl)\n",
    "      outPlant = nomPlant.work(signalCtrl)\n",
    "      outRefPlant = refPlant.work(source)\n",
    "      ctrl.set_parameters(estimator.work([outPlant,error,source]))\n",
    "\n",
    "      y.append(outPlant)\n",
    "      ym.append(outRefPlant)\n",
    "      r.append(source)\n",
    "      u.append(outCtrl)\n",
    "    PlotArrays(t=t,r=r,y=y,u=u,ym=ym)\n",
    "# simulação com ruído senoidal aditivo na saída do modelo real da planta\n",
    "def sim_real_noisy(h, tend, const, noise, nomPlant, refPlant, unkDyn, ctrl, estimator):\n",
    "    samples = np.int32(np.round(tend/h))\n",
    "    t = np.arange(samples)*h\n",
    "    r, y, ym, u = ([],[],[],[])\n",
    "    outPlant = nomPlant.get_out()\n",
    "    outRefPlant = refPlant.get_out() \n",
    "    for sim in range(samples):\n",
    "      source = const.work()\n",
    "      error = sub.work([outPlant, outRefPlant])\n",
    "      outCtrl = ctrl.work([outPlant, source])\n",
    "      signalCtrl= unkDyn.work(outCtrl)\n",
    "      outPlant = nomPlant.work(signalCtrl) + noise.work()\n",
    "      outRefPlant = refPlant.work(source)\n",
    "      ctrl.set_parameters(estimator.work([outPlant,error,source]))\n",
    "\n",
    "      y.append(outPlant)\n",
    "      ym.append(outRefPlant)\n",
    "      r.append(source)\n",
    "      u.append(outCtrl)\n",
    "\n",
    "    PlotArrays(t=t,r=r,y=y,u=u,ym=ym)"
   ],
   "outputs": [],
   "metadata": {
    "id": "38oJEErEhFYY"
   }
  },
  {
   "cell_type": "markdown",
   "source": [
    "### Simulações de Rohrs"
   ],
   "metadata": {
    "id": "HifF7fCYhFYZ"
   }
  },
  {
   "cell_type": "markdown",
   "source": [
    "#### Sexta simulação"
   ],
   "metadata": {
    "id": "tlQUv9vHIkoQ"
   }
  },
  {
   "cell_type": "code",
   "execution_count": null,
   "source": [
    "# Sexta simulação\n",
    "\n",
    "start = time.process_time()\n",
    "\n",
    "tend = 3 # seconds\n",
    "const = Source(name='Source', h=h, amplitude=lambda t:1)\n",
    "nomPlant.reset(initial_conditions=[0.5])\n",
    "refPlant.reset(initial_conditions=[0])\n",
    "ctrl.reset(ports_gains = [(ap-am)/kp, km/kp])\n",
    "estimator = EstimatorMRAC(name='Estimator', \n",
    "                          actual_controller_gains = ctrl.get_parameters(), \n",
    "                          adaptation_law='integral', \n",
    "                          adaptive_gains = [0,0])\n",
    "\n",
    "sim_nominal(h, tend, const, nomPlant, refPlant, ctrl, estimator)\n",
    "print('Duration: ' + str(time.process_time()-start) + ' seconds')"
   ],
   "outputs": [],
   "metadata": {
    "cellView": "form",
    "id": "TD5Rwz1nmewl"
   }
  },
  {
   "cell_type": "markdown",
   "source": [
    "#### Sétima simulação"
   ],
   "metadata": {
    "id": "yshFRiCks4cJ"
   }
  },
  {
   "cell_type": "code",
   "execution_count": null,
   "source": [
    "# Sétima simulação\n",
    "\n",
    "start = time.process_time()\n",
    "\n",
    "tend = 5 # seconds\n",
    "const = Source(name='Source', h=h, amplitude=lambda t:1)\n",
    "nomPlant.reset(initial_conditions=[0.5])\n",
    "refPlant.reset(initial_conditions=[0])\n",
    "ctrl.reset(ports_gains = [-0.65, 1.14])\n",
    "estimator = EstimatorMRAC(name='Estimator', \n",
    "                          actual_controller_gains = ctrl.get_parameters(), \n",
    "                          adaptation_law='integral', \n",
    "                          adaptive_gains = [1,1])\n",
    "\n",
    "sim_nominal(h, tend, const, nomPlant, refPlant, ctrl, estimator)\n",
    "print('Duration: ' + str(time.process_time()-start) + ' seconds')"
   ],
   "outputs": [],
   "metadata": {
    "cellView": "form",
    "id": "VZcQXRlGs5O5"
   }
  },
  {
   "cell_type": "markdown",
   "source": [
    "#### Oitava simulação"
   ],
   "metadata": {
    "id": "Z-HMBgnotAcR"
   }
  },
  {
   "cell_type": "code",
   "execution_count": null,
   "source": [
    "# Oitava simulação\n",
    "\n",
    "start = time.process_time()\n",
    "\n",
    "tend = 10 # seconds\n",
    "const = Source(name='Source', h=h, amplitude=lambda t:4.3)\n",
    "nomPlant.reset(initial_conditions=[0.5])\n",
    "refPlant.reset(initial_conditions=[0])\n",
    "unkDyn.reset(initial_conditions=[0,0])\n",
    "ctrl.reset(ports_gains = [-0.65, 1.14])\n",
    "estimator = EstimatorMRAC(name='Estimator', \n",
    "                          actual_controller_gains = [-0.65, 1.14], \n",
    "                          adaptation_law='integral', \n",
    "                          adaptive_gains = [1,1])\n",
    "\n",
    "sim_real(h, tend, const, nomPlant, refPlant, unkDyn, ctrl, estimator)\n",
    "print('Duration: ' + str(time.process_time()-start) + ' seconds')"
   ],
   "outputs": [],
   "metadata": {
    "id": "pjXOdKVnwHfk"
   }
  },
  {
   "cell_type": "markdown",
   "source": [
    "#### Nona simulação"
   ],
   "metadata": {
    "id": "keyBmFKWtDBg"
   }
  },
  {
   "cell_type": "code",
   "execution_count": null,
   "source": [
    "# Nona simulação\n",
    "\n",
    "start = time.process_time()\n",
    "\n",
    "tend = 20 # seconds\n",
    "const = Source(name='Source', h=h, amplitude=lambda t:0.3+1.85*np.sin(16.1*t))\n",
    "nomPlant.reset(initial_conditions=[0.5])\n",
    "refPlant.reset(initial_conditions=[0])\n",
    "unkDyn.reset(initial_conditions=[0,0])\n",
    "ctrl.reset(ports_gains = [-0.65, 1.14])\n",
    "\n",
    "estimator = EstimatorMRAC(name='Estimator', \n",
    "                          actual_controller_gains = ctrl.get_parameters(), \n",
    "                          adaptation_law='integral', \n",
    "                          adaptive_gains = [1,1])\n",
    "\n",
    "sim_real(h, tend, const, nomPlant, refPlant, unkDyn, ctrl, estimator)\n",
    "print('Duration: ' + str(time.process_time()-start) + ' seconds')"
   ],
   "outputs": [],
   "metadata": {
    "cellView": "form",
    "id": "3PSkMguuCARh"
   }
  },
  {
   "cell_type": "markdown",
   "source": [
    "#### Décima simulação"
   ],
   "metadata": {
    "id": "Dhcu_rPstEZB"
   }
  },
  {
   "cell_type": "code",
   "execution_count": null,
   "source": [
    "# Décima simulação\n",
    "\n",
    "start = time.process_time()\n",
    "\n",
    "tend = 80 # seconds\n",
    "samples = np.int32(np.round(tend/h))\n",
    "t = np.arange(samples)*h\n",
    "\n",
    "const = Source(name='Source', h=h, amplitude=lambda t:2)\n",
    "noise = Source(name='NoiseSource', h=h, amplitude=lambda t:0.5*np.sin(16.1*t))\n",
    "nomPlant.reset(initial_conditions=[0.5])\n",
    "refPlant.reset(initial_conditions=[0])\n",
    "unkDyn.reset(initial_conditions=[0,0])\n",
    "ctrl.reset(ports_gains = [-0.65, 1.14])\n",
    "\n",
    "estimator = EstimatorMRAC(name='Estimator', \n",
    "                          actual_controller_gains = ctrl.get_parameters(), \n",
    "                          adaptation_law='integral', \n",
    "                          adaptive_gains = [1,1])\n",
    "\n",
    "r, y, ym, u = ([],[],[],[])\n",
    "outPlant = nomPlant.get_out()\n",
    "outRefPlant = refPlant.get_out() \n",
    "count = 0\n",
    "for sim in range(samples):\n",
    "  source = const.work()\n",
    "  error = sub.work([outPlant, outRefPlant])\n",
    "  outCtrl = ctrl.work([outPlant, source])\n",
    "  signalCtrl= unkDyn.work(outCtrl)\n",
    "  outPlant = nomPlant.work(signalCtrl) + noise.work()\n",
    "  outRefPlant = refPlant.work(source)\n",
    "  ctrl.set_parameters(estimator.work([outPlant,error,source]))\n",
    "  count+=1\n",
    "  if(count==10):\n",
    "    y.append(outPlant)\n",
    "    ym.append(outRefPlant)\n",
    "    r.append(source)\n",
    "    u.append(outCtrl)\n",
    "    count=0\n",
    "\n",
    "PlotArrays(t=t[0:-1:10],r=r,y=y,u=u,ym=ym)\n",
    "print('Duration: ' + str(time.process_time()-start) + ' seconds')"
   ],
   "outputs": [],
   "metadata": {
    "id": "wuYI3TAADZbk"
   }
  },
  {
   "cell_type": "markdown",
   "source": [
    "#### Décima primeira simulação"
   ],
   "metadata": {
    "id": "EsT6fL0vtHwg"
   }
  },
  {
   "cell_type": "code",
   "execution_count": null,
   "source": [
    "# Décima primeira simulação\n",
    "\n",
    "start = time.process_time()\n",
    "\n",
    "tend = 10 # seconds\n",
    "const = Source(name='Source', h=h, amplitude=lambda t:1+0.1*np.sin(1.5*t))\n",
    "nomPlant.reset(initial_conditions=[0.5])\n",
    "refPlant.reset(initial_conditions=[0])\n",
    "ctrl.reset(ports_gains = [-0.65, 1.14])\n",
    "\n",
    "estimator = EstimatorMRAC(name='Estimator', \n",
    "                          actual_controller_gains = ctrl.get_parameters(), \n",
    "                          adaptation_law='integral', \n",
    "                          adaptive_gains = [1,1])\n",
    "\n",
    "sim_nominal(h, tend, const, nomPlant, refPlant, ctrl, estimator)\n",
    "print('Duration: ' + str(time.process_time()-start) + ' seconds')"
   ],
   "outputs": [],
   "metadata": {
    "id": "h-vreU6-me5c"
   }
  },
  {
   "cell_type": "markdown",
   "source": [
    "#### Décima segunda simulação"
   ],
   "metadata": {
    "id": "gs1juNPetIIr"
   }
  },
  {
   "cell_type": "code",
   "execution_count": null,
   "source": [
    "# Décima segunda simulação\n",
    "\n",
    "start = time.process_time()\n",
    "\n",
    "tend = 10 # seconds\n",
    "const = Source(name='Source', h=h, amplitude=lambda t:1+0.1*np.sin(1.5*t))\n",
    "nomPlant.reset(initial_conditions=[0.5])\n",
    "refPlant.reset(initial_conditions=[0])\n",
    "unkDyn.reset(initial_conditions=[0,0])\n",
    "ctrl.reset(ports_gains = [-0.65, 1.14])\n",
    "estimator = EstimatorMRAC(name='Estimator', \n",
    "                          actual_controller_gains = ctrl.get_parameters(), \n",
    "                          adaptation_law='integral', \n",
    "                          adaptive_gains = [1,1])\n",
    "\n",
    "sim_real(h, tend, const, nomPlant, refPlant, unkDyn, ctrl, estimator)\n",
    "print('Duration: ' + str(time.process_time()-start) + ' seconds')"
   ],
   "outputs": [],
   "metadata": {
    "id": "2xf-WFuzp6QL"
   }
  },
  {
   "cell_type": "markdown",
   "source": [
    "#### Décima terceira simulação"
   ],
   "metadata": {
    "id": "5rZSBD0QtIkI"
   }
  },
  {
   "cell_type": "code",
   "execution_count": null,
   "source": [
    "# Décima terceira simulação\n",
    "\n",
    "start = time.process_time()\n",
    "\n",
    "tend = 10 # seconds\n",
    "const = Source(name='Source', h=h, amplitude=lambda t:1+0.1*np.sin(1.5*t))\n",
    "noise = Source(name='NoiseSource', h=h, amplitude=lambda t:0.1*np.sin(16.1*t))\n",
    "nomPlant.reset(initial_conditions=[0.5])\n",
    "refPlant.reset(initial_conditions=[0])\n",
    "unkDyn.reset(initial_conditions=[0,0])\n",
    "ctrl.reset(ports_gains = [-0.65, 1.14])\n",
    "\n",
    "estimator = EstimatorMRAC(name='Estimator', \n",
    "                          actual_controller_gains = ctrl.get_parameters(), \n",
    "                          adaptation_law='integral', \n",
    "                          adaptive_gains = [1,1])\n",
    "\n",
    "sim_real_noisy(h, tend, const, noise, nomPlant, refPlant, unkDyn, ctrl, estimator)\n",
    "print('Duration: ' + str(time.process_time()-start) + ' seconds')"
   ],
   "outputs": [],
   "metadata": {
    "id": "E3d1yoiKqn30"
   }
  },
  {
   "cell_type": "markdown",
   "source": [
    "#### Décima quarta simulação"
   ],
   "metadata": {
    "id": "9em9ihJ4tIzp"
   }
  },
  {
   "cell_type": "code",
   "execution_count": null,
   "source": [
    "# Décima quarta simulação\n",
    "\n",
    "start = time.process_time()\n",
    "\n",
    "tend = 5 # seconds\n",
    "const = Source(name='Source', h=h, amplitude=lambda t:1)\n",
    "nomPlant.reset(initial_conditions=[0.5])\n",
    "refPlant.reset(initial_conditions=[0])\n",
    "ctrl.reset(ports_gains = [-0.65, 1.14])\n",
    "estimator = EstimatorMRAC(name='Estimator', \n",
    "                          actual_controller_gains = ctrl.get_parameters(), \n",
    "                          adaptation_law ='dead_zone', \n",
    "                          adaptive_gains = [1,1],\n",
    "                          dead_zone = 0.1)\n",
    "\n",
    "sim_nominal(h, tend, const, nomPlant, refPlant, ctrl, estimator)\n",
    "print('Duration: ' + str(time.process_time()-start) + ' seconds')"
   ],
   "outputs": [],
   "metadata": {
    "id": "vts37FAOvLon"
   }
  },
  {
   "cell_type": "markdown",
   "source": [
    "#### Décima quinta simulação"
   ],
   "metadata": {
    "id": "flHGwwS3tJC6"
   }
  },
  {
   "cell_type": "code",
   "execution_count": null,
   "source": [
    "# Décima quinta simulação\n",
    "\n",
    "start = time.process_time()\n",
    "\n",
    "tend = 5 # seconds\n",
    "const = Source(name='Source', h=h, amplitude=lambda t:1)\n",
    "unkDyn.reset(initial_conditions=[0,0])\n",
    "nomPlant.reset(initial_conditions=[0.5])\n",
    "refPlant.reset(initial_conditions=[0])\n",
    "ctrl.reset(ports_gains = [-0.65, 1.14])\n",
    "\n",
    "estimator = EstimatorMRAC(name='Estimator', \n",
    "                          actual_controller_gains = ctrl.get_parameters(), \n",
    "                          adaptation_law ='dead_zone', \n",
    "                          adaptive_gains = [1,1],\n",
    "                          dead_zone = 0.1)\n",
    "\n",
    "sim_real(h, tend, const, nomPlant, refPlant, unkDyn, ctrl, estimator)\n",
    "print('Duration: ' + str(time.process_time()-start) + ' seconds')"
   ],
   "outputs": [],
   "metadata": {
    "id": "WeB55uibvdEp"
   }
  },
  {
   "cell_type": "markdown",
   "source": [
    "#### Décima sexta simulação"
   ],
   "metadata": {
    "id": "qSMH6nkntJRR"
   }
  },
  {
   "cell_type": "code",
   "execution_count": null,
   "source": [
    "# Décima sexta simulação\n",
    "\n",
    "start = time.process_time()\n",
    "\n",
    "tend = 5 # seconds\n",
    "const = Source(name='Source', h=h, amplitude=lambda t:1)\n",
    "noise = Source(name='NoiseSource', h=h, amplitude=lambda t:0.1*np.sin(16.1*t))\n",
    "unkDyn.reset(initial_conditions=[0,0])\n",
    "nomPlant.reset(initial_conditions=[0.5])\n",
    "refPlant.reset(initial_conditions=[0])\n",
    "ctrl.reset(ports_gains = [-0.65, 1.14])\n",
    "estimator = EstimatorMRAC(name='Estimator', \n",
    "                          actual_controller_gains = ctrl.get_parameters(), \n",
    "                          adaptation_law ='dead_zone', \n",
    "                          adaptive_gains = [1,1],\n",
    "                          dead_zone = 0.1)\n",
    "\n",
    "sim_real_noisy(h, tend, const, noise, nomPlant, refPlant, unkDyn, ctrl, estimator)\n",
    "print('Duration: ' + str(time.process_time()-start) + ' seconds')"
   ],
   "outputs": [],
   "metadata": {
    "id": "E1nM1ynIv_NR"
   }
  },
  {
   "cell_type": "markdown",
   "source": [
    "#### Décima sétima simulação"
   ],
   "metadata": {
    "id": "X8-Os8sLtJgR"
   }
  },
  {
   "cell_type": "code",
   "execution_count": null,
   "source": [
    "# Décima sétima simulação\n",
    "\n",
    "start = time.process_time()\n",
    "\n",
    "tend = 5 # seconds\n",
    "const = Source(name='Source', h=h, amplitude=lambda t:1)\n",
    "nomPlant.reset(initial_conditions=[0.5])\n",
    "refPlant.reset(initial_conditions=[0])\n",
    "ctrl.reset(ports_gains = [-0.65, 1.14])\n",
    "estimator = EstimatorMRAC(name='Estimator', \n",
    "                          actual_controller_gains = ctrl.get_parameters(), \n",
    "                          adaptation_law ='limitation', \n",
    "                          adaptive_gains = [1,1],\n",
    "                          limiter = 0.5)\n",
    "\n",
    "sim_nominal(h, tend, const, nomPlant, refPlant, ctrl, estimator)\n",
    "print('Duration: ' + str(time.process_time()-start) + ' seconds')"
   ],
   "outputs": [],
   "metadata": {
    "id": "1d0xjkJF0c4V"
   }
  },
  {
   "cell_type": "markdown",
   "source": [
    "#### Décima oitava simulação"
   ],
   "metadata": {
    "id": "NrVDP7dTtJvq"
   }
  },
  {
   "cell_type": "code",
   "execution_count": null,
   "source": [
    "# Décima oitava simulação\n",
    "\n",
    "start = time.process_time()\n",
    "\n",
    "tend = 5 # seconds\n",
    "const = Source(name='Source', h=h, amplitude=lambda t:1)\n",
    "unkDyn.reset(initial_conditions=[0,0])\n",
    "nomPlant.reset(initial_conditions=[0.5])\n",
    "refPlant.reset(initial_conditions=[0])\n",
    "ctrl.reset(ports_gains = [-0.65, 1.14])\n",
    "estimator = EstimatorMRAC(name='Estimator', \n",
    "                          actual_controller_gains = ctrl.get_parameters(), \n",
    "                          adaptation_law ='limitation', \n",
    "                          adaptive_gains = [1,1],\n",
    "                          limiter = 0.5)\n",
    "\n",
    "sim_real(h, tend, const, nomPlant, refPlant, unkDyn, ctrl, estimator)\n",
    "print('Duration: ' + str(time.process_time()-start) + ' seconds')"
   ],
   "outputs": [],
   "metadata": {
    "id": "ubeDeKRM1IQI"
   }
  },
  {
   "cell_type": "markdown",
   "source": [
    "#### Décima nona simulação"
   ],
   "metadata": {
    "id": "fWexT6MzuOEZ"
   }
  },
  {
   "cell_type": "code",
   "execution_count": null,
   "source": [
    "# Décima nona simulação\n",
    "\n",
    "start = time.process_time()\n",
    "\n",
    "tend = 5 # seconds\n",
    "const = Source(name='Source', h=h, amplitude=lambda t:1)\n",
    "noise = Source(name='NoiseSource', h=h, amplitude=lambda t:0.1*np.sin(16.1*t))\n",
    "unkDyn.reset(initial_conditions=[0,0])\n",
    "nomPlant.reset(initial_conditions=[0.5])\n",
    "refPlant.reset(initial_conditions=[0])\n",
    "ctrl.reset(ports_gains = [-0.65, 1.14])\n",
    "estimator = EstimatorMRAC(name='Estimator', \n",
    "                          actual_controller_gains = ctrl.get_parameters(), \n",
    "                          adaptation_law ='limitation', \n",
    "                          adaptive_gains = [1,1],\n",
    "                      limiter=miter = 0.5)\n",
    "\n",
    "sim_real_noisy(h, tend, const, noise, nomPlant, refPlant, unkDyn, ctrl, estimator)\n",
    "print('Duration: ' + str(time.process_time()-start) + ' seconds')"
   ],
   "outputs": [],
   "metadata": {
    "id": "0y7th3sh1b2-"
   }
  },
  {
   "cell_type": "markdown",
   "source": [
    "#### Vigésima simulação"
   ],
   "metadata": {
    "id": "12ft_tOVuPye"
   }
  },
  {
   "cell_type": "code",
   "execution_count": null,
   "source": [
    "# Vigésima simulação\n",
    "\n",
    "start = time.process_time()\n",
    "\n",
    "tend = 5 # seconds\n",
    "const = Source(name='Source', h=h, amplitude=lambda t:1)\n",
    "nomPlant.reset(initial_conditions=[0.5])\n",
    "refPlant.reset(initial_conditions=[0])\n",
    "ctrl.reset(ports_gains = [-0.65, 1.14])\n",
    "estimator = EstimatorMRAC(name='Estimator', \n",
    "                          actual_controller_gains = ctrl.get_parameters(), \n",
    "                          adaptation_law ='normalization', \n",
    "                          adaptive_gains = [1,1])\n",
    "\n",
    "sim_nominal(h, tend, const, nomPlant, refPlant, ctrl, estimator)\n",
    "print('Duration: ' + str(time.process_time()-start) + ' seconds')"
   ],
   "outputs": [],
   "metadata": {
    "id": "mdS1Bk0z3gfL"
   }
  },
  {
   "cell_type": "markdown",
   "source": [
    "#### Vigésima primeira simulação"
   ],
   "metadata": {
    "id": "HJAjYoHguRef"
   }
  },
  {
   "cell_type": "code",
   "execution_count": null,
   "source": [
    "# Vigésima primeira simulação\n",
    "\n",
    "start = time.process_time()\n",
    "\n",
    "tend = 5 # seconds\n",
    "const = Source(name='Source', h=h, amplitude=lambda t:1)\n",
    "unkDyn.reset(initial_conditions=[0,0])\n",
    "nomPlant.reset(initial_conditions=[0.5])\n",
    "refPlant.reset(initial_conditions=[0])\n",
    "ctrl.reset(ports_gains = [-0.65, 1.14])\n",
    "estimator = EstimatorMRAC(name='Estimator', \n",
    "                          actual_controller_gains = ctrl.get_parameters(), \n",
    "                          adaptation_law ='normalization', \n",
    "                          adaptive_gains = [1,1])\n",
    "\n",
    "sim_real(h, tend, const, nomPlant, refPlant, unkDyn, ctrl, estimator)\n",
    "print('Duration: ' + str(time.process_time()-start) + ' seconds')"
   ],
   "outputs": [],
   "metadata": {
    "id": "fZs48QVX3jH2"
   }
  },
  {
   "cell_type": "markdown",
   "source": [
    "#### Vigésima segunda simulação"
   ],
   "metadata": {
    "id": "rJK1G6BXuSHF"
   }
  },
  {
   "cell_type": "code",
   "execution_count": null,
   "source": [
    "# Vigésima segunda simulação\n",
    "\n",
    "start = time.process_time()\n",
    "\n",
    "tend = 5 # seconds\n",
    "const = Source(name='Source', h=h, amplitude=lambda t:1)\n",
    "noise = Source(name='NoiseSource', h=h, amplitude=lambda t:0.1*np.sin(16.1*t))\n",
    "unkDyn.reset(initial_conditions=[0,0])\n",
    "nomPlant.reset(initial_conditions=[0.5])\n",
    "refPlant.reset(initial_conditions=[0])\n",
    "ctrl.reset(ports_gains = [-0.65, 1.14])\n",
    "estimator = EstimatorMRAC(name='Estimator', \n",
    "                          actual_controller_gains = ctrl.get_parameters(), \n",
    "                          adaptation_law ='normalization', \n",
    "                          adaptive_gains = [1,1])\n",
    "\n",
    "sim_real_noisy(h, tend, const, noise, nomPlant, refPlant, unkDyn, ctrl, estimator)\n",
    "print('Duration: ' + str(time.process_time()-start) + ' seconds')"
   ],
   "outputs": [],
   "metadata": {
    "id": "Ug1cF4hW3lum"
   }
  },
  {
   "cell_type": "markdown",
   "source": [
    "#### Vigésima terceira simulação"
   ],
   "metadata": {
    "id": "vC3GC_dHuSax"
   }
  },
  {
   "cell_type": "code",
   "execution_count": null,
   "source": [
    "# Vigésima terceira simulação\n",
    "\n",
    "start = time.process_time()\n",
    "\n",
    "tend = 10 # seconds\n",
    "const = Source(name='Source', h=h, amplitude=lambda t:1)\n",
    "nomPlant.reset(initial_conditions=[0.5])\n",
    "refPlant.reset(initial_conditions=[0])\n",
    "ctrl.reset(ports_gains = [-0.65, 1.14])\n",
    "estimator = EstimatorMRAC(name='Estimator', \n",
    "                          actual_controller_gains = ctrl.get_parameters(), \n",
    "                          adaptation_law ='sigma_modification', \n",
    "                          forgetfulness_factor = 0.2,\n",
    "                          adaptive_gains = [1,1])\n",
    "\n",
    "sim_nominal(h, tend, const, nomPlant, refPlant, ctrl, estimator)\n",
    "print('Duration: ' + str(time.process_time()-start) + ' seconds')"
   ],
   "outputs": [],
   "metadata": {
    "id": "nk6RGEzpa244"
   }
  },
  {
   "cell_type": "markdown",
   "source": [
    "#### Vigésima quarta simulação"
   ],
   "metadata": {
    "id": "eGDmbPAtuUan"
   }
  },
  {
   "cell_type": "code",
   "execution_count": null,
   "source": [
    "# Vigésima quarta simulação\n",
    "\n",
    "start = time.process_time()\n",
    "\n",
    "tend = 10 # seconds\n",
    "const = Source(name='Source', h=h, amplitude=lambda t:1)\n",
    "unkDyn.reset(initial_conditions=[0,0])\n",
    "nomPlant.reset(initial_conditions=[0.5])\n",
    "refPlant.reset(initial_conditions=[0])\n",
    "ctrl.reset(ports_gains = [-0.65, 1.14])\n",
    "estimator = EstimatorMRAC(name='Estimator', \n",
    "                          actual_controller_gains = ctrl.get_parameters(), \n",
    "                          adaptation_law ='sigma_modification', \n",
    "                          forgetfulness_factor = 0.2,\n",
    "                          adaptive_gains = [1,1])\n",
    "\n",
    "sim_real(h, tend, const, nomPlant, refPlant, unkDyn, ctrl, estimator)\n",
    "print('Duration: ' + str(time.process_time()-start) + ' seconds')"
   ],
   "outputs": [],
   "metadata": {
    "id": "rJSvDOqFa5MO"
   }
  },
  {
   "cell_type": "markdown",
   "source": [
    "#### Vigésima quinta simulação"
   ],
   "metadata": {
    "id": "IAjjimXjuUQY"
   }
  },
  {
   "cell_type": "code",
   "execution_count": null,
   "source": [
    "# Vigésima quinta simulação\n",
    "\n",
    "start = time.process_time()\n",
    "\n",
    "tend = 10 # seconds\n",
    "const = Source(name='Source', h=h, amplitude=lambda t:1)\n",
    "noise = Source(name='NoiseSource', h=h, amplitude=lambda t:0.1*np.sin(16.1*t))\n",
    "unkDyn.reset(initial_conditions=[0,0])\n",
    "nomPlant.reset(initial_conditions=[0.5])\n",
    "refPlant.reset(initial_conditions=[0])\n",
    "ctrl.reset(ports_gains = [-0.65, 1.14])\n",
    "estimator = EstimatorMRAC(name='Estimator', \n",
    "                          actual_controller_gains = ctrl.get_parameters(), \n",
    "                          adaptation_law ='sigma_modification', \n",
    "                          forgetfulness_factor = 0.2,\n",
    "                          adaptive_gains = [1,1])\n",
    "\n",
    "sim_real_noisy(h, tend, const, noise, nomPlant, refPlant, unkDyn, ctrl, estimator)\n",
    "print('Duration: ' + str(time.process_time()-start) + ' seconds')"
   ],
   "outputs": [],
   "metadata": {
    "id": "f_qyG9V_a75t"
   }
  },
  {
   "cell_type": "markdown",
   "source": [
    "#### Vigésima sexta simulação"
   ],
   "metadata": {
    "id": "QLwvocjBuUCp"
   }
  },
  {
   "cell_type": "code",
   "execution_count": null,
   "source": [
    "# Vigésima sexta simulação\n",
    "\n",
    "start = time.process_time()\n",
    "\n",
    "tend = 5 # seconds\n",
    "const = Source(name='Source', h=h, amplitude=lambda t:1)\n",
    "nomPlant.reset(initial_conditions=[0.5])\n",
    "refPlant.reset(initial_conditions=[0])\n",
    "ctrl.reset(ports_gains = [-0.65, 1.14])\n",
    "estimator = EstimatorMRAC(name='Estimator', \n",
    "                          actual_controller_gains = ctrl.get_parameters(), \n",
    "                          adaptation_law ='sigma_modification_with_normalization',\n",
    "                          limiter = 0.5,\n",
    "                          forgetfulness_factor = 0.2,\n",
    "                          delta0=0.5, delta1=0.1, m0=2,\n",
    "                          adaptive_gains = [1,1])\n",
    "\n",
    "sim_nominal(h, tend, const, nomPlant, refPlant, ctrl, estimator)\n",
    "print('Duration: ' + str(time.process_time()-start) + ' seconds')"
   ],
   "outputs": [],
   "metadata": {
    "id": "Rz3Y4tMCkA1A"
   }
  },
  {
   "cell_type": "markdown",
   "source": [
    "#### Vigésima sétima simulação"
   ],
   "metadata": {
    "id": "3Q8s_CPUuTqu"
   }
  },
  {
   "cell_type": "code",
   "execution_count": null,
   "source": [
    "# Vigésima sétima simulação\n",
    "\n",
    "start = time.process_time()\n",
    "\n",
    "tend = 5 # seconds\n",
    "const = Source(name='Source', h=h, amplitude=lambda t:1)\n",
    "unkDyn.reset(initial_conditions=[0,0])\n",
    "nomPlant.reset(initial_conditions=[0.5])\n",
    "refPlant.reset(initial_conditions=[0])\n",
    "ctrl.reset(ports_gains = [-0.65, 1.14])\n",
    "estimator = EstimatorMRAC(name='Estimator', \n",
    "                          actual_controller_gains = ctrl.get_parameters(), \n",
    "                          adaptation_law ='sigma_modification_with_normalization',\n",
    "                          limiter = 0.5,\n",
    "                          forgetfulness_factor = 0.2,\n",
    "                          delta0=0.5, delta1=0.1, m0=2,\n",
    "                          adaptive_gains = [1,1])\n",
    "\n",
    "sim_real(h, tend, const, nomPlant, refPlant, unkDyn, ctrl, estimator)\n",
    "print('Duration: ' + str(time.process_time()-start) + ' seconds')"
   ],
   "outputs": [],
   "metadata": {
    "id": "9KheRWPwlFEC"
   }
  },
  {
   "cell_type": "markdown",
   "source": [
    "#### Vigésima oitava simulação"
   ],
   "metadata": {
    "id": "4VG8V2-9uS73"
   }
  },
  {
   "cell_type": "code",
   "execution_count": null,
   "source": [
    "# Vigésima oitava simulação\n",
    "\n",
    "start = time.process_time()\n",
    "\n",
    "tend = 5 # seconds\n",
    "const = Source(name='Source', h=h, amplitude=lambda t:1)\n",
    "noise = Source(name='NoiseSource', h=h, amplitude=lambda t:0.1*np.sin(16.1*t))\n",
    "unkDyn.reset(initial_conditions=[0,0])\n",
    "nomPlant.reset(initial_conditions=[0.5])\n",
    "refPlant.reset(initial_conditions=[0])\n",
    "ctrl.reset(ports_gains = [-0.65, 1.14])\n",
    "estimator = EstimatorMRAC(name='Estimator', \n",
    "                          actual_controller_gains = ctrl.get_parameters(), \n",
    "                          adaptation_law ='sigma_modification_with_normalization',\n",
    "                          limiter = 0.5,\n",
    "                          forgetfulness_factor = 0.2,\n",
    "                          delta0=0.5, delta1=0.1, m0=2,\n",
    "                          adaptive_gains = [1,1])\n",
    "\n",
    "sim_real_noisy(h, tend, const, noise, nomPlant, refPlant, unkDyn, ctrl, estimator)\n",
    "print('Duration: ' + str(time.process_time()-start) + ' seconds')"
   ],
   "outputs": [],
   "metadata": {
    "id": "SgIf0kiElPA6"
   }
  },
  {
   "cell_type": "markdown",
   "source": [
    "#### Vigésima nona simulação"
   ],
   "metadata": {
    "id": "h_y8LuGeufKn"
   }
  },
  {
   "cell_type": "code",
   "execution_count": null,
   "source": [
    "# Vigésima nona simulação\n",
    "\n",
    "start = time.process_time()\n",
    "\n",
    "tend = 5 # seconds\n",
    "const = Source(name='Source', h=h, amplitude=lambda t:1)\n",
    "nomPlant.reset(initial_conditions=[0.5])\n",
    "refPlant.reset(initial_conditions=[0])\n",
    "ctrl.reset(ports_gains = [-0.65, 1.14])\n",
    "estimator = EstimatorMRAC(name='Estimator', \n",
    "                          actual_controller_gains = ctrl.get_parameters(), \n",
    "                          adaptation_law ='projection',\n",
    "                          limiter = 1.5,\n",
    "                          adaptive_gains = [1,1])\n",
    "\n",
    "sim_nominal(h, tend, const, nomPlant, refPlant, ctrl, estimator)\n",
    "print('Duration: ' + str(time.process_time()-start) + ' seconds')"
   ],
   "outputs": [],
   "metadata": {
    "id": "7WE39zbtltro"
   }
  },
  {
   "cell_type": "markdown",
   "source": [
    "#### Trigésima simulação"
   ],
   "metadata": {
    "id": "FWWA7RpUugWS"
   }
  },
  {
   "cell_type": "code",
   "execution_count": null,
   "source": [
    "# Trigésima simulação\n",
    "\n",
    "start = time.process_time()\n",
    "\n",
    "tend = 5 # seconds\n",
    "const = Source(name='Source', h=h, amplitude=lambda t:1)\n",
    "unkDyn.reset(initial_conditions=[0,0])\n",
    "nomPlant.reset(initial_conditions=[0.5])\n",
    "refPlant.reset(initial_conditions=[0])\n",
    "ctrl.reset(ports_gains = [-0.65, 1.14])\n",
    "estimator = EstimatorMRAC(name='Estimator', \n",
    "                          actual_controller_gains = ctrl.get_parameters(), \n",
    "                          adaptation_law ='projection',\n",
    "                          limiter = 1.5,\n",
    "                          adaptive_gains = [1,1])\n",
    "\n",
    "sim_real(h, tend, const, nomPlant, refPlant, unkDyn, ctrl, estimator)\n",
    "print('Duration: ' + str(time.process_time()-start) + ' seconds')"
   ],
   "outputs": [],
   "metadata": {
    "id": "-FflB5vulype"
   }
  },
  {
   "cell_type": "markdown",
   "source": [
    "#### Trigésima primeira simulação"
   ],
   "metadata": {
    "id": "J6DU8z3uujzp"
   }
  },
  {
   "cell_type": "code",
   "execution_count": null,
   "source": [
    "# Trigésima primeira simulação\n",
    "\n",
    "start = time.process_time()\n",
    "\n",
    "tend = 5 # seconds\n",
    "const = Source(name='Source', h=h, amplitude=lambda t:1)\n",
    "noise = Source(name='NoiseSource', h=h, amplitude=lambda t:0.1*np.sin(16.1*t))\n",
    "unkDyn.reset(initial_conditions=[0,0])\n",
    "nomPlant.reset(initial_conditions=[0.5])\n",
    "refPlant.reset(initial_conditions=[0])\n",
    "ctrl.reset(ports_gains = [-0.65, 1.14])\n",
    "estimator = EstimatorMRAC(name='Estimator', \n",
    "                          actual_controller_gains = ctrl.get_parameters(), \n",
    "                          adaptation_law ='projection',\n",
    "                          limiter = 1.5,\n",
    "                          adaptive_gains = [1,1])\n",
    "\n",
    "sim_real_noisy(h, tend, const, noise, nomPlant, refPlant, unkDyn, ctrl, estimator)\n",
    "print('Duration: ' + str(time.process_time()-start) + ' seconds')"
   ],
   "outputs": [],
   "metadata": {
    "id": "Y8U_y3ycl41A"
   }
  }
 ],
 "metadata": {
  "colab": {
   "collapsed_sections": [
    "GMkuLxcx1F_C",
    "7X1NKcA16wBJ",
    "U1yFFJ3N90bT",
    "8q7EPsVr934R",
    "QiMnEv4o95VS",
    "pHt1bgkP96xo",
    "dOTj2Un098NA",
    "mcrz2O-Q99a5"
   ],
   "name": "Simulações em Controle Adaptativo Robusto.ipynb",
   "provenance": []
  },
  "kernelspec": {
   "name": "python3",
   "display_name": "Python 3.8.10 64-bit (conda)"
  },
  "language_info": {
   "codemirror_mode": {
    "name": "ipython",
    "version": 3
   },
   "file_extension": ".py",
   "mimetype": "text/x-python",
   "name": "python",
   "nbconvert_exporter": "python",
   "pygments_lexer": "ipython3",
   "version": "3.8.10"
  },
  "interpreter": {
   "hash": "1e87f45ea6456f954092e3c66abf7b40f0e1d2f9e9713a423f4cac954e0c2624"
  }
 },
 "nbformat": 4,
 "nbformat_minor": 1
}